{
 "cells": [
  {
   "cell_type": "markdown",
   "metadata": {},
   "source": [
    "# 자연어 처리(NLP)랑 친해지기"
   ]
  },
  {
   "cell_type": "markdown",
   "metadata": {},
   "source": [
    "1. 쉽게 시작하기"
   ]
  },
  {
   "cell_type": "markdown",
   "metadata": {},
   "source": [
    "<img src=\"0.png\" width=\"700\"><BR>"
   ]
  },
  {
   "cell_type": "code",
   "execution_count": 20,
   "metadata": {
    "collapsed": true
   },
   "outputs": [],
   "source": [
    "from collections import Counter\n",
    "from gensim import corpora, models\n",
    "from pprint import pprint\n",
    "from konlpy.tag import Twitter, Komoran, Hannanum\n",
    "from nltk import collocations"
   ]
  },
  {
   "cell_type": "code",
   "execution_count": 21,
   "metadata": {
    "collapsed": false
   },
   "outputs": [
    {
     "name": "stdout",
     "output_type": "stream",
     "text": [
      "['강의']\n"
     ]
    }
   ],
   "source": [
    "#-*- coding: utf-8 -*-\n",
    "from konlpy.tag import Twitter\n",
    "from konlpy.utils import pprint\n",
    "Twitter = Twitter()\n",
    "pprint (Twitter.nouns(\"만나서 반가워요. 재미있는 강의가 되길 바라요.\")) #pythob 2.x는 u\"아버지가 방에 들어가신다. 만나서 반가워요.\""
   ]
  },
  {
   "cell_type": "code",
   "execution_count": 22,
   "metadata": {
    "collapsed": false
   },
   "outputs": [
    {
     "name": "stdout",
     "output_type": "stream",
     "text": [
      "['만나서', '반가워', '요', '.', '재미있는', '강의', '가', '되', '길', '바라', '요', '.']\n"
     ]
    }
   ],
   "source": [
    "pprint (Twitter.morphs(\"만나서 반가워요. 재미있는 강의가 되길 바라요.\"))"
   ]
  },
  {
   "cell_type": "markdown",
   "metadata": {},
   "source": [
    "<img src=\"tag.png\" width=\"700\"><BR>"
   ]
  },
  {
   "cell_type": "code",
   "execution_count": 23,
   "metadata": {
    "collapsed": false
   },
   "outputs": [
    {
     "name": "stdout",
     "output_type": "stream",
     "text": [
      "[('만나서', 'Verb'),\n",
      " ('반가워', 'Adjective'),\n",
      " ('요', 'Eomi'),\n",
      " ('.', 'Punctuation'),\n",
      " ('재미있는', 'Adjective'),\n",
      " ('강의', 'Noun'),\n",
      " ('가', 'Josa'),\n",
      " ('되', 'Verb'),\n",
      " ('길', 'Eomi'),\n",
      " ('바라', 'Verb'),\n",
      " ('요', 'Eomi'),\n",
      " ('.', 'Punctuation')]\n"
     ]
    }
   ],
   "source": [
    "pprint (Twitter.pos(\"만나서 반가워요. 재미있는 강의가 되길 바라요.\"))"
   ]
  },
  {
   "cell_type": "markdown",
   "metadata": {},
   "source": [
    "[KoNLPy][konlpy_page]의 [품사 태그 비교표][tag_table]"
   ]
  },
  {
   "cell_type": "markdown",
   "metadata": {},
   "source": [
    "<img src=\"twitter.png\" width=\"400\"><BR>"
   ]
  },
  {
   "cell_type": "markdown",
   "metadata": {},
   "source": [
    "참고:품사태그셋 https://docs.google.com/spreadsheets/d/1OGAjUvalBuX-oZvZ_-9tEfYD2gQe7hTGsgUpiiBSXI8/edit#gid=0"
   ]
  },
  {
   "cell_type": "markdown",
   "metadata": {},
   "source": [
    "<img src=\"morph_anal.png\" width=\"700\"><BR>"
   ]
  },
  {
   "cell_type": "markdown",
   "metadata": {},
   "source": [
    "박은정외(2014), 쉽고 간결한 한국어 정보어 정보처리 파이썬 패키지, 한극 및 한국어 정보처리 학술대회 논문집"
   ]
  },
  {
   "cell_type": "markdown",
   "metadata": {},
   "source": [
    "# 구문분석"
   ]
  },
  {
   "cell_type": "code",
   "execution_count": 10,
   "metadata": {
    "collapsed": false
   },
   "outputs": [
    {
     "name": "stdout",
     "output_type": "stream",
     "text": [
      "# Print whole tree\n",
      "(S\n",
      "  (VP 만나서/Verb)\n",
      "  (AP 반가워/Adjective)\n",
      "  요/Eomi\n",
      "  ./Punctuation\n",
      "  (AP 재미있는/Adjective)\n",
      "  (NP 강의/Noun)\n",
      "  가/Josa\n",
      "  (VP 되/Verb)\n",
      "  길/Eomi\n",
      "  (VP 바라/Verb)\n",
      "  요/Eomi\n",
      "  ./Punctuation)\n",
      "None\n",
      "\n",
      "# Print noun phrases only\n",
      "강의\n",
      "(NP 강의/Noun)\n",
      "None\n"
     ]
    }
   ],
   "source": [
    "# -*- coding: utf-8 -*-\n",
    "\n",
    "import konlpy\n",
    "import nltk\n",
    "\n",
    "# POS tag a sentence\n",
    "sentence = '만나서 반가워요. 재미있는 강의가 되길 바라요.'\n",
    "words = konlpy.tag.Twitter().pos(sentence)\n",
    "\n",
    "# Define a chunk grammar, or chunking rules, then chunk\n",
    "grammar = \"\"\"\n",
    "NP: {<N.*>*<Suffix>?}   # Noun phrase\n",
    "VP: {<V.*>*}            # Verb phrase\n",
    "AP: {<A.*>*}            # Adjective phrase\n",
    "\"\"\"\n",
    "parser = nltk.RegexpParser(grammar)\n",
    "chunks = parser.parse(words)\n",
    "print(\"# Print whole tree\")\n",
    "print(chunks.pprint())\n",
    "\n",
    "print(\"\\n# Print noun phrases only\")\n",
    "for subtree in chunks.subtrees():\n",
    "    if subtree.label()=='NP':\n",
    "        print(' '.join((e[0] for e in list(subtree))))\n",
    "        print(subtree.pprint())\n",
    "\n",
    "chunks.draw()\n",
    "# Display the chunk tree\n",
    "\n"
   ]
  },
  {
   "cell_type": "markdown",
   "metadata": {},
   "source": [
    "<img src=\"tree1.png\" width=\"1000\"><BR>"
   ]
  },
  {
   "cell_type": "markdown",
   "metadata": {},
   "source": [
    "<img src=\"1.png\" width=\"900\"><BR>"
   ]
  },
  {
   "cell_type": "markdown",
   "metadata": {},
   "source": [
    "# 2. 시각적으로 아름다운 도구로 자연어 이해하기"
   ]
  },
  {
   "cell_type": "markdown",
   "metadata": {},
   "source": [
    "출처 : http://brat.nlplab.org/examples.html"
   ]
  },
  {
   "cell_type": "markdown",
   "metadata": {},
   "source": [
    "<img src=\"dependency.png\" width=\"800\"><BR>"
   ]
  },
  {
   "cell_type": "markdown",
   "metadata": {},
   "source": [
    "<img src=\"3.png\" width=\"700\"><BR>"
   ]
  },
  {
   "cell_type": "markdown",
   "metadata": {
    "collapsed": true
   },
   "source": [
    "# 개채명 탐지(Entity mention detection)"
   ]
  },
  {
   "cell_type": "markdown",
   "metadata": {},
   "source": [
    "NER : 대화 시스템, 질의 응답 시스템, 정보 검색 분야 등에서 개체명 인식은 필수적 과정임 \n"
   ]
  },
  {
   "cell_type": "markdown",
   "metadata": {},
   "source": [
    "https://github.com/krikit/annie/blob/master/notebook/annie_presentation.ipynb"
   ]
  },
  {
   "cell_type": "markdown",
   "metadata": {
    "collapsed": true
   },
   "source": [
    "<img src=\"ner.png\" width=\"800\"><BR>"
   ]
  },
  {
   "cell_type": "markdown",
   "metadata": {},
   "source": [
    "Transition 기반 자연어처리 Framework인 SyntaxNet을 중심으로 한글 자연어처리에 맞도록 개편 가능"
   ]
  },
  {
   "cell_type": "markdown",
   "metadata": {
    "collapsed": true
   },
   "source": [
    "# 상호참조 해결(Coreference resolution)"
   ]
  },
  {
   "cell_type": "markdown",
   "metadata": {
    "collapsed": true
   },
   "source": [
    "<img src=\"Coref.png\" width=\"800\"><BR>"
   ]
  },
  {
   "cell_type": "markdown",
   "metadata": {},
   "source": [
    "# annotation 연습"
   ]
  },
  {
   "cell_type": "raw",
   "metadata": {},
   "source": [
    "# 1\n",
    "\t쇼핑/NNG\n",
    "\t제/NP+가/Josa\n",
    "\t하/VV+어/EC\n",
    "\t드리/VX+겠/EP+습니다/EF+./SF\n",
    "    \n",
    "# 2\n",
    "\t그/NP_\n",
    "\t시간/NNG+예/Josa+ 는/Josa\n",
    "\t공항/NNG+까지/Josa\n",
    "\t마중/NNG+을/Josa\n",
    "\t나가/VV+ㄹ/ETM\n",
    "\t수/NNB\n",
    "\t있/VA+도록/EC\n",
    "\t하/VV+겠/EP+습니다/EF+./SF"
   ]
  },
  {
   "cell_type": "markdown",
   "metadata": {},
   "source": [
    "유용한 자료\n",
    "한글 형태소 사전 NIA_DIC : \n",
    "https://kbig.kr/index.php?page=2&sv=title&sw=&q=knowledge/pds_&tgt=view&page=2&idx=16451&sw=&sv=title"
   ]
  },
  {
   "cell_type": "markdown",
   "metadata": {
    "collapsed": true
   },
   "source": [
    "감사합니다."
   ]
  }
 ],
 "metadata": {
  "kernelspec": {
   "display_name": "Python 3",
   "language": "python",
   "name": "python3"
  },
  "language_info": {
   "codemirror_mode": {
    "name": "ipython",
    "version": 3
   },
   "file_extension": ".py",
   "mimetype": "text/x-python",
   "name": "python",
   "nbconvert_exporter": "python",
   "pygments_lexer": "ipython3",
   "version": "3.6.0"
  }
 },
 "nbformat": 4,
 "nbformat_minor": 2
}
