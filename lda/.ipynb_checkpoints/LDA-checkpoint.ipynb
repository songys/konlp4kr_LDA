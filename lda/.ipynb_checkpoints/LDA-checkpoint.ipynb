{
 "cells": [
  {
   "cell_type": "markdown",
   "metadata": {},
   "source": [
    "<img src=\"1.png\" width=\"700\"><BR>"
   ]
  },
  {
   "cell_type": "markdown",
   "metadata": {},
   "source": [
    "# 정의 : 주어진 문서에 대하여 각 문서에 어떤 주제들이 존재하는지에 대한 확률 모형"
   ]
  },
  {
   "cell_type": "markdown",
   "metadata": {},
   "source": [
    "<img src=\"3.png\" width=\"800\"><BR>"
   ]
  },
  {
   "cell_type": "markdown",
   "metadata": {},
   "source": [
    "<img src=\"2.png\" width=\"700\"><BR>"
   ]
  },
  {
   "cell_type": "markdown",
   "metadata": {},
   "source": [
    "# 1. 데이터 로딩"
   ]
  },
  {
   "cell_type": "markdown",
   "metadata": {},
   "source": [
    "실습 데이터는 위키피디아 만 개의 문장을 사용\n",
    "위키 피디아 한국어 전체 다운로드 링크 : \n",
    "https://ko.wikipedia.org/wiki/%EC%9C%84%ED%82%A4%EB%B0%B1%EA%B3%BC:%EB%8D%B0%EC%9D%B4%ED%84%B0%EB%B2%A0%EC%9D%B4%EC%8A%A4_%EB%8B%A4%EC%9A%B4%EB%A1%9C%EB%93%9C\n"
   ]
  },
  {
   "cell_type": "code",
   "execution_count": 9,
   "metadata": {
    "collapsed": false
   },
   "outputs": [],
   "source": [
    "from collections import Counter\n",
    "from gensim import corpora, models\n",
    "from pprint import pprint\n",
    "from functools import reduce\n",
    "from konlpy.tag import Twitter #Komoran, Hannanum등 다른 형태소 분석기도 가능\n"
   ]
  },
  {
   "cell_type": "code",
   "execution_count": 10,
   "metadata": {
    "collapsed": true
   },
   "outputs": [],
   "source": [
    "import bokeh.sampledata\n",
    "import numpy as np\n",
    "from sklearn.manifold import TSNE"
   ]
  },
  {
   "cell_type": "code",
   "execution_count": 11,
   "metadata": {
    "collapsed": false,
    "scrolled": false
   },
   "outputs": [
    {
     "name": "stdout",
     "output_type": "stream",
     "text": [
      "CPU times: user 7.58 ms, sys: 1.87 ms, total: 9.45 ms\n",
      "Wall time: 8.48 ms\n"
     ]
    }
   ],
   "source": [
    "%%time\n",
    "with open('/Users/song-yeongsug/anaconda/LDA0603/lda/kowiki.csv', 'r') as f:\n",
    "    docs_wi = [line for line in f.read().splitlines()]"
   ]
  },
  {
   "cell_type": "markdown",
   "metadata": {},
   "source": [
    "# 2. 자르기(Tokenize)"
   ]
  },
  {
   "cell_type": "code",
   "execution_count": 12,
   "metadata": {
    "collapsed": false
   },
   "outputs": [
    {
     "name": "stdout",
     "output_type": "stream",
     "text": [
      "['\\ufeff/Foreign', '!!/Punctuation', '늘다/Verb', '체스/Noun', '에서/Josa', \"'/Punctuation\", '훌륭하다/Adjective', '이동/Noun', \"'/Punctuation\", '을/Josa', '하다/Verb', '때/Noun', '를/Josa', '나타내다/Verb', './Punctuation']\n"
     ]
    }
   ],
   "source": [
    "#-*- coding: utf-8 -*-\n",
    "from konlpy.tag import Twitter; t = Twitter()\n",
    "pos = lambda d: ['/'.join(p) for p in t.pos(d, stem=True, norm=True)]\n",
    "texts_wi = [pos(doc) for doc in docs_wi]\n",
    "print(texts_wi[0])"
   ]
  },
  {
   "cell_type": "markdown",
   "metadata": {},
   "source": [
    "# 2.1 불용어( stop_words) 처리"
   ]
  },
  {
   "cell_type": "code",
   "execution_count": 13,
   "metadata": {
    "collapsed": false
   },
   "outputs": [],
   "source": [
    "\n",
    "\n",
    "stop_words = [\"이\", \"의\",\"ㄴ\",\"는\", \"것\", \"하\", \"님\", \"좀\", \"거\", \"시\", \"왜\", \"제\", \"게\", \"식\", \"수\", \"그\", \"더\", \"때\", \"또\",  \"저\", \"나\", \"안\",\n",
    "              \"건\", \"요\", \"도\", \"왜\", \"어\", \"가\", \"를\", \"에\", \"것\", \"뿐\"]\n",
    "\n"
   ]
  },
  {
   "cell_type": "markdown",
   "metadata": {},
   "source": [
    "# 2.2 불용어를 처리하는 이유 :  많다는 것이 꼭 좋은 것은 아니다!\n",
    "\n",
    " (예) 세종코퍼스에서 가장 많은 수의 단어들을 보면  다음과 같다. \n",
    " 조사나 어미류는 어느 문서에나 많이 포함되어 있기 때문에 문서간 차이를 구별하기 어렵게 한다. "
   ]
  },
  {
   "cell_type": "markdown",
   "metadata": {},
   "source": [
    "<img src=\"kkma.png\" width=\"500\"><BR>"
   ]
  },
  {
   "cell_type": "markdown",
   "metadata": {},
   "source": [
    "http://kkma.snu.ac.kr/search"
   ]
  },
  {
   "cell_type": "markdown",
   "metadata": {},
   "source": [
    "# 3. 자른 토큰을 Integers로 인코딩"
   ]
  },
  {
   "cell_type": "code",
   "execution_count": 14,
   "metadata": {
    "collapsed": false
   },
   "outputs": [],
   "source": [
    "from gensim import corpora\n",
    "dictionary_wi = corpora.Dictionary(texts_wi)\n",
    "dictionary_wi.save('wi.dict')  # save dictionary to file for future use\n"
   ]
  },
  {
   "cell_type": "markdown",
   "metadata": {},
   "source": [
    "# 4. TF-IDF(Term Frequency - Inverse Document Frequency) 계산"
   ]
  },
  {
   "cell_type": "markdown",
   "metadata": {},
   "source": [
    "<img src=\"tfidf.png\" width=\"600\"><BR>"
   ]
  },
  {
   "cell_type": "markdown",
   "metadata": {},
   "source": [
    "F(단어 빈도, term frequency)는 특정한 단어가 문서 내에 얼마나 자주 등장하는지를 나타내는 값으로, 이 값이 높을수록 문서에서 중요하다고 생각할 수 있다. 하지만 단어 자체가 문서군 내에서 자주 사용되는 경우, 이것은 그 단어가 흔하게 등장한다는 것을 의미한다. 이것을 DF(문서 빈도, document frequency)라고 하며, 이 값의 역수를 IDF(역문서 빈도, inverse document frequency)라고 한다. TF-IDF는 TF와 IDF를 곱한 값이다."
   ]
  },
  {
   "cell_type": "markdown",
   "metadata": {},
   "source": [
    "\n",
    "tf(t,d) = 0.5 + 0.5 x f(t,d) / (문서 내 단어들의 f(t,d) 값 중 최댓값) \n"
   ]
  },
  {
   "cell_type": "markdown",
   "metadata": {},
   "source": [
    "IDF 값은 문서군의 성격에 따라 결정된다. 예를 들어 '원자'라는 낱말은 일반적인 문서들 사이에서는 잘 나오지 않기 때문에 IDF 값이 높아지고 문서의 핵심어가 될 수 있지만, 원자에 대한 문서를 모아놓은 문서군의 경우 이 낱말은 상투어가 되어 각 문서들을 세분화하여 구분할 수 있는 다른 낱말들이 높은 가중치를 얻게 된다."
   ]
  },
  {
   "cell_type": "markdown",
   "metadata": {},
   "source": [
    "idf(t,D) = log ( 전체 문서의 갯수 / 단어 t가 포함된 문서의 수 )\n"
   ]
  },
  {
   "cell_type": "code",
   "execution_count": 15,
   "metadata": {
    "collapsed": false
   },
   "outputs": [
    {
     "name": "stdout",
     "output_type": "stream",
     "text": [
      "[(0, 1), (1, 1), (2, 1), (3, 1), (4, 1), (5, 2), (6, 1), (7, 1), (8, 1), (9, 1)]\n",
      "[(5, 2), (0, 1), (1, 1), (2, 1), (3, 1), (4, 1), (6, 1), (7, 1), (8, 1), (9, 1)]\n",
      "죽이다/Verb\n"
     ]
    }
   ],
   "source": [
    "from gensim import models\n",
    "tf_wi = [dictionary_wi.doc2bow(text) for text in texts_wi]\n",
    "tfidf_model_wi = models.TfidfModel(tf_wi)\n",
    "tfidf_wi = tfidf_model_wi[tf_wi]\n",
    "corpora.MmCorpus.serialize('wi.mm', tfidf_wi) # save corpus to file for future use\n",
    "\n",
    "# print first 10 elements of first document's tf-idf vector\n",
    "print(tfidf_wi.corpus[0][:10])\n",
    "# print top 10 elements of first document's tf-idf vector\n",
    "print(sorted(tfidf_wi.corpus[0], key=lambda x: x[1], reverse=True)[:10])\n",
    "# print token of most frequent element\n",
    "print(dictionary_wi.get(414))"
   ]
  },
  {
   "cell_type": "markdown",
   "metadata": {},
   "source": [
    "# Train topic model  "
   ]
  },
  {
   "cell_type": "markdown",
   "metadata": {},
   "source": [
    "1. LSI"
   ]
  },
  {
   "cell_type": "code",
   "execution_count": 16,
   "metadata": {
    "collapsed": false
   },
   "outputs": [
    {
     "name": "stdout",
     "output_type": "stream",
     "text": [
      "[(0, '-0.580*\")/Punctuation\" + -0.520*\"(/Punctuation\" + -0.215*\"년/Noun\" + -0.164*\"遼/Foreign\" + -0.162*\"요/Noun\"'), (1, '-0.498*\"=/Punctuation\" + -0.490*\"|/Punctuation\" + -0.484*\"align/Alpha\" + -0.375*\"right/Alpha\" + -0.175*\"center/Alpha\"'), (2, '0.304*\",/Punctuation\" + 0.292*\"\"/Punctuation\" + 0.271*\"일/Noun\" + 0.255*\"월/Noun\" + 0.203*\"./Punctuation\"')]\n"
     ]
    }
   ],
   "source": [
    "ntopics, nwords = 3, 5\n",
    "lsi_wi = models.lsimodel.LsiModel(tfidf_wi, id2word=dictionary_wi, num_topics=ntopics)\n",
    "print(lsi_wi.print_topics(num_topics=ntopics, num_words=nwords))"
   ]
  },
  {
   "cell_type": "markdown",
   "metadata": {},
   "source": [
    "# 2. LDA"
   ]
  },
  {
   "cell_type": "code",
   "execution_count": 17,
   "metadata": {
    "collapsed": false,
    "scrolled": true
   },
   "outputs": [
    {
     "name": "stdout",
     "output_type": "stream",
     "text": [
      "[(0, '0.010*\"(/Punctuation\" + 0.009*\")/Punctuation\" + 0.008*\"베트남/Noun\" + 0.008*\"왕조/Noun\" + 0.008*\"李朝/Foreign\"'), (1, '0.035*\")/Punctuation\" + 0.033*\"(/Punctuation\" + 0.015*\"년/Noun\" + 0.013*\"북송/Noun\" + 0.013*\"北宋/Foreign\"'), (2, '0.013*\")/Punctuation\" + 0.012*\"(/Punctuation\" + 0.009*\"()/Punctuation\" + 0.008*\"日本/Foreign\" + 0.008*\"고려/Noun\"')]\n"
     ]
    }
   ],
   "source": [
    "import numpy as np; np.random.seed(42)  # optional\n",
    "lda_wi = models.ldamodel.LdaModel(tfidf_wi, id2word=dictionary_wi, num_topics=ntopics)\n",
    "print(lda_wi.print_topics(num_topics=ntopics, num_words=nwords))"
   ]
  },
  {
   "cell_type": "markdown",
   "metadata": {},
   "source": [
    "# Scoring documents"
   ]
  },
  {
   "cell_type": "code",
   "execution_count": 18,
   "metadata": {
    "collapsed": false
   },
   "outputs": [
    {
     "data": {
      "text/plain": [
       "[(2, 0.82852782399405878),\n",
       " (1, 0.086190671003169864),\n",
       " (0, 0.085281505002771346)]"
      ]
     },
     "execution_count": 18,
     "metadata": {},
     "output_type": "execute_result"
    }
   ],
   "source": [
    "bow = tfidf_model_wi[dictionary_wi.doc2bow(texts_wi[0])]\n",
    "sorted(lsi_wi[bow], key=lambda x: x[1], reverse=True)\n",
    "sorted(lda_wi[bow], key=lambda x: x[1], reverse=True)\n"
   ]
  },
  {
   "cell_type": "code",
   "execution_count": 19,
   "metadata": {
    "collapsed": false
   },
   "outputs": [
    {
     "data": {
      "text/plain": [
       "[(2, 0.77378349758514831), (1, 0.11931053162638963), (0, 0.10690597078846202)]"
      ]
     },
     "execution_count": 19,
     "metadata": {},
     "output_type": "execute_result"
    }
   ],
   "source": [
    "bow = tfidf_model_wi[dictionary_wi.doc2bow(texts_wi[1])]\n",
    "sorted(lsi_wi[bow], key=lambda x: x[1], reverse=True)\n",
    "sorted(lda_wi[bow], key=lambda x: x[1], reverse=True)\n"
   ]
  },
  {
   "cell_type": "markdown",
   "metadata": {
    "collapsed": true
   },
   "source": [
    "# word2vec"
   ]
  },
  {
   "cell_type": "markdown",
   "metadata": {},
   "source": [
    "# 1.데이터 로드 "
   ]
  },
  {
   "cell_type": "code",
   "execution_count": 20,
   "metadata": {
    "collapsed": false
   },
   "outputs": [
    {
     "name": "stdout",
     "output_type": "stream",
     "text": [
      "CPU times: user 8.74 ms, sys: 2.55 ms, total: 11.3 ms\n",
      "Wall time: 10.2 ms\n"
     ]
    }
   ],
   "source": [
    "\n",
    "%%time\n",
    "with open('/Users/song-yeongsug/anaconda/LDA0603/lda/kowiki.csv', 'r') as f:\n",
    "    docs_wi = [line for line in f.read().splitlines()]"
   ]
  },
  {
   "cell_type": "markdown",
   "metadata": {},
   "source": [
    "# 2. 토큰으로 자르기"
   ]
  },
  {
   "cell_type": "code",
   "execution_count": 21,
   "metadata": {
    "collapsed": true
   },
   "outputs": [],
   "source": [
    "from konlpy.tag import Twitter; t = Twitter()\n",
    "pos = lambda d: ['/'.join(p) for p in t.pos(d)]\n",
    "texts_wi = [pos(doc) for doc in docs_wi]"
   ]
  },
  {
   "cell_type": "markdown",
   "metadata": {
    "collapsed": true
   },
   "source": [
    "# 3. Train"
   ]
  },
  {
   "cell_type": "code",
   "execution_count": 22,
   "metadata": {
    "collapsed": false
   },
   "outputs": [],
   "source": [
    "from gensim.models import word2vec\n",
    "wv_model_wi = word2vec.Word2Vec(texts_wi)\n",
    "wv_model_wi.init_sims(replace=True)\n",
    "wv_model_wi.save('wi_word2vec.model')"
   ]
  },
  {
   "cell_type": "markdown",
   "metadata": {},
   "source": [
    "# 4. Test"
   ]
  },
  {
   "cell_type": "code",
   "execution_count": 23,
   "metadata": {
    "collapsed": false
   },
   "outputs": [
    {
     "data": {
      "text/plain": [
       "[('아나운서/Noun', 0.9973910450935364),\n",
       " ('개그맨/Noun', 0.996369481086731),\n",
       " ('외교관/Noun', 0.994905948638916),\n",
       " ('영국/Noun', 0.9947266578674316),\n",
       " ('벨기에/Noun', 0.9942213296890259),\n",
       " ('BR/Alpha', 0.9937004446983337),\n",
       " ('알바니아/Noun', 0.9936906099319458),\n",
       " ('그룹/Noun', 0.9935718178749084),\n",
       " ('격투기/Noun', 0.9934262037277222),\n",
       " ('캐나다/Noun', 0.9930694699287415)]"
      ]
     },
     "execution_count": 23,
     "metadata": {},
     "output_type": "execute_result"
    }
   ],
   "source": [
    "\n",
    "wv_model_wi.most_similar(pos('가수'))"
   ]
  },
  {
   "cell_type": "code",
   "execution_count": 24,
   "metadata": {
    "collapsed": false
   },
   "outputs": [
    {
     "data": {
      "text/plain": [
       "[('일/Noun', 0.9943585395812988),\n",
       " ('10/Number', 0.9879191517829895),\n",
       " ('일과/Noun', 0.9829756021499634),\n",
       " ('12/Number', 0.9817038774490356),\n",
       " ('율리우스력/Noun', 0.9696485996246338),\n",
       " ('9/Number', 0.9679151773452759),\n",
       " ('그레고리력/Noun', 0.9643518328666687),\n",
       " ('5/Number', 0.9636277556419373),\n",
       " ('11/Number', 0.9603281617164612),\n",
       " ('1/Number', 0.9525899887084961)]"
      ]
     },
     "execution_count": 24,
     "metadata": {},
     "output_type": "execute_result"
    }
   ],
   "source": [
    "wv_model_wi.most_similar(pos('월'))"
   ]
  },
  {
   "cell_type": "markdown",
   "metadata": {},
   "source": [
    "# 시각화"
   ]
  },
  {
   "cell_type": "code",
   "execution_count": 25,
   "metadata": {
    "collapsed": false
   },
   "outputs": [
    {
     "name": "stdout",
     "output_type": "stream",
     "text": [
      "[t-SNE] Computing pairwise distances...\n",
      "[t-SNE] Computed conditional probabilities for sample 1000 / 1000\n",
      "[t-SNE] Mean sigma: 0.022876\n",
      "[t-SNE] KL divergence after 100 iterations with early exaggeration: 18.993960\n",
      "[t-SNE] Error after 175 iterations: 18.993960\n"
     ]
    }
   ],
   "source": [
    "\n",
    "top = 1000 #top은 표시할 단어의 수\n",
    "\n",
    "vectors = wv_model_wi.wv.syn0[:top]\n",
    "labels = wv_model_wi.wv.index2word[:top] \n",
    "\n",
    "from sklearn.manifold import TSNE\n",
    "\n",
    "\n",
    "if np.shape(vectors)[1] > 2:\n",
    "    tsne = TSNE(perplexity=10, n_components=2, init='random', n_iter=1000, verbose=1, learning_rate=5000, method='exact')\n",
    "    vectors = tsne.fit_transform(vectors)\n",
    "\n",
    "\n",
    "#source = ColumnDataSource(data=dict(x=vectors.T[0], y=vectors.T[1], word=labels))\n",
    "    \n",
    "\n",
    "\n"
   ]
  },
  {
   "cell_type": "code",
   "execution_count": 26,
   "metadata": {
    "collapsed": true
   },
   "outputs": [],
   "source": [
    "\n",
    "from bokeh.plotting import figure, show\n",
    "from bokeh.models import ColumnDataSource, LabelSet"
   ]
  },
  {
   "cell_type": "code",
   "execution_count": 27,
   "metadata": {
    "collapsed": false
   },
   "outputs": [],
   "source": [
    "source = ColumnDataSource(data=dict(x=vectors.T[0], y=vectors.T[1], word=labels))"
   ]
  },
  {
   "cell_type": "code",
   "execution_count": 28,
   "metadata": {
    "collapsed": true
   },
   "outputs": [],
   "source": [
    "label_set = LabelSet(x='x',y='y',text='word',source=source)"
   ]
  },
  {
   "cell_type": "code",
   "execution_count": 29,
   "metadata": {
    "collapsed": true
   },
   "outputs": [],
   "source": [
    "tools = \"pan,wheel_zoom,box_zoom,reset,resize\""
   ]
  },
  {
   "cell_type": "code",
   "execution_count": 30,
   "metadata": {
    "collapsed": true
   },
   "outputs": [],
   "source": [
    "p = figure(plot_width=900,plot_height=900,tools=[tools],title='title')"
   ]
  },
  {
   "cell_type": "code",
   "execution_count": 31,
   "metadata": {
    "collapsed": false
   },
   "outputs": [
    {
     "data": {
      "text/html": [
       "<div style=\"display: table;\"><div style=\"display: table-row;\"><div style=\"display: table-cell;\"><b title=\"bokeh.models.renderers.GlyphRenderer\">GlyphRenderer</b>(</div><div style=\"display: table-cell;\">id&nbsp;=&nbsp;'180fc2ea-baca-4d14-8c8a-71c83622b4f8', <span id=\"cf7de016-191a-4ef2-bbf8-ff3bbfb65d87\" style=\"cursor: pointer;\">&hellip;)</span></div></div><div class=\"b373a6c4-4f81-49be-a91f-ec76765c3815\" style=\"display: none;\"><div style=\"display: table-cell;\"></div><div style=\"display: table-cell;\">data_source&nbsp;=&nbsp;ColumnDataSource(id='90d66b56-97bb-4f34-a33f-1b0bdec84ad4', ...),</div></div><div class=\"b373a6c4-4f81-49be-a91f-ec76765c3815\" style=\"display: none;\"><div style=\"display: table-cell;\"></div><div style=\"display: table-cell;\">glyph&nbsp;=&nbsp;Circle(id='ef993bb2-0e7e-4cf7-9a66-9fc7ce74c2b9', ...),</div></div><div class=\"b373a6c4-4f81-49be-a91f-ec76765c3815\" style=\"display: none;\"><div style=\"display: table-cell;\"></div><div style=\"display: table-cell;\">hover_glyph&nbsp;=&nbsp;None,</div></div><div class=\"b373a6c4-4f81-49be-a91f-ec76765c3815\" style=\"display: none;\"><div style=\"display: table-cell;\"></div><div style=\"display: table-cell;\">js_callbacks&nbsp;=&nbsp;{},</div></div><div class=\"b373a6c4-4f81-49be-a91f-ec76765c3815\" style=\"display: none;\"><div style=\"display: table-cell;\"></div><div style=\"display: table-cell;\">level&nbsp;=&nbsp;'glyph',</div></div><div class=\"b373a6c4-4f81-49be-a91f-ec76765c3815\" style=\"display: none;\"><div style=\"display: table-cell;\"></div><div style=\"display: table-cell;\">name&nbsp;=&nbsp;None,</div></div><div class=\"b373a6c4-4f81-49be-a91f-ec76765c3815\" style=\"display: none;\"><div style=\"display: table-cell;\"></div><div style=\"display: table-cell;\">nonselection_glyph&nbsp;=&nbsp;Circle(id='4cb1e104-7a2c-48ce-a024-bbefb1f152ef', ...),</div></div><div class=\"b373a6c4-4f81-49be-a91f-ec76765c3815\" style=\"display: none;\"><div style=\"display: table-cell;\"></div><div style=\"display: table-cell;\">selection_glyph&nbsp;=&nbsp;None,</div></div><div class=\"b373a6c4-4f81-49be-a91f-ec76765c3815\" style=\"display: none;\"><div style=\"display: table-cell;\"></div><div style=\"display: table-cell;\">tags&nbsp;=&nbsp;[],</div></div><div class=\"b373a6c4-4f81-49be-a91f-ec76765c3815\" style=\"display: none;\"><div style=\"display: table-cell;\"></div><div style=\"display: table-cell;\">visible&nbsp;=&nbsp;True,</div></div><div class=\"b373a6c4-4f81-49be-a91f-ec76765c3815\" style=\"display: none;\"><div style=\"display: table-cell;\"></div><div style=\"display: table-cell;\">x_range_name&nbsp;=&nbsp;'default',</div></div><div class=\"b373a6c4-4f81-49be-a91f-ec76765c3815\" style=\"display: none;\"><div style=\"display: table-cell;\"></div><div style=\"display: table-cell;\">y_range_name&nbsp;=&nbsp;'default')</div></div></div>\n",
       "<script>\n",
       "(function() {\n",
       "  var expanded = false;\n",
       "  var ellipsis = document.getElementById(\"cf7de016-191a-4ef2-bbf8-ff3bbfb65d87\");\n",
       "  ellipsis.addEventListener(\"click\", function() {\n",
       "    var rows = document.getElementsByClassName(\"b373a6c4-4f81-49be-a91f-ec76765c3815\");\n",
       "    for (var i = 0; i < rows.length; i++) {\n",
       "      var el = rows[i];\n",
       "      el.style.display = expanded ? \"none\" : \"table-row\";\n",
       "    }\n",
       "    ellipsis.innerHTML = expanded ? \"&hellip;)\" : \"&lsaquo;&lsaquo;&lsaquo;\";\n",
       "    expanded = !expanded;\n",
       "  });\n",
       "})();\n",
       "</script>\n"
      ],
      "text/plain": [
       "GlyphRenderer(id='180fc2ea-baca-4d14-8c8a-71c83622b4f8', ...)"
      ]
     },
     "execution_count": 31,
     "metadata": {},
     "output_type": "execute_result"
    }
   ],
   "source": [
    "\n",
    "p.circle('x','y',size=5,source=source,alpha=0.6)"
   ]
  },
  {
   "cell_type": "code",
   "execution_count": 32,
   "metadata": {
    "collapsed": true
   },
   "outputs": [],
   "source": [
    "p.add_layout(label_set)"
   ]
  },
  {
   "cell_type": "markdown",
   "metadata": {},
   "source": [
    "<img src=\"space.png\" width=\"700\"><BR>"
   ]
  },
  {
   "cell_type": "code",
   "execution_count": 33,
   "metadata": {
    "collapsed": false
   },
   "outputs": [],
   "source": [
    "show(p)"
   ]
  },
  {
   "cell_type": "markdown",
   "metadata": {},
   "source": [
    "# Working in the Notebook"
   ]
  },
  {
   "cell_type": "markdown",
   "metadata": {},
   "source": [
    "http://bokeh.pydata.org/en/latest/docs/user_guide/notebook.html"
   ]
  },
  {
   "cell_type": "code",
   "execution_count": 60,
   "metadata": {
    "collapsed": true
   },
   "outputs": [],
   "source": [
    "from bokeh.io import push_notebook, show, output_notebook\n",
    "from bokeh.layouts import row"
   ]
  },
  {
   "cell_type": "code",
   "execution_count": 61,
   "metadata": {
    "collapsed": false
   },
   "outputs": [
    {
     "data": {
      "text/html": [
       "\n",
       "    <div class=\"bk-root\">\n",
       "        <a href=\"http://bokeh.pydata.org\" target=\"_blank\" class=\"bk-logo bk-logo-small bk-logo-notebook\"></a>\n",
       "        <span id=\"4ff90273-2d6b-418f-8403-2a327e3bc389\">Loading BokehJS ...</span>\n",
       "    </div>"
      ]
     },
     "metadata": {},
     "output_type": "display_data"
    },
    {
     "data": {
      "application/javascript": [
       "\n",
       "(function(global) {\n",
       "  function now() {\n",
       "    return new Date();\n",
       "  }\n",
       "\n",
       "  var force = true;\n",
       "\n",
       "  if (typeof (window._bokeh_onload_callbacks) === \"undefined\" || force === true) {\n",
       "    window._bokeh_onload_callbacks = [];\n",
       "    window._bokeh_is_loading = undefined;\n",
       "  }\n",
       "\n",
       "\n",
       "  \n",
       "  if (typeof (window._bokeh_timeout) === \"undefined\" || force === true) {\n",
       "    window._bokeh_timeout = Date.now() + 5000;\n",
       "    window._bokeh_failed_load = false;\n",
       "  }\n",
       "\n",
       "  var NB_LOAD_WARNING = {'data': {'text/html':\n",
       "     \"<div style='background-color: #fdd'>\\n\"+\n",
       "     \"<p>\\n\"+\n",
       "     \"BokehJS does not appear to have successfully loaded. If loading BokehJS from CDN, this \\n\"+\n",
       "     \"may be due to a slow or bad network connection. Possible fixes:\\n\"+\n",
       "     \"</p>\\n\"+\n",
       "     \"<ul>\\n\"+\n",
       "     \"<li>re-rerun `output_notebook()` to attempt to load from CDN again, or</li>\\n\"+\n",
       "     \"<li>use INLINE resources instead, as so:</li>\\n\"+\n",
       "     \"</ul>\\n\"+\n",
       "     \"<code>\\n\"+\n",
       "     \"from bokeh.resources import INLINE\\n\"+\n",
       "     \"output_notebook(resources=INLINE)\\n\"+\n",
       "     \"</code>\\n\"+\n",
       "     \"</div>\"}};\n",
       "\n",
       "  function display_loaded() {\n",
       "    if (window.Bokeh !== undefined) {\n",
       "      document.getElementById(\"4ff90273-2d6b-418f-8403-2a327e3bc389\").textContent = \"BokehJS successfully loaded.\";\n",
       "    } else if (Date.now() < window._bokeh_timeout) {\n",
       "      setTimeout(display_loaded, 100)\n",
       "    }\n",
       "  }\n",
       "\n",
       "  function run_callbacks() {\n",
       "    window._bokeh_onload_callbacks.forEach(function(callback) { callback() });\n",
       "    delete window._bokeh_onload_callbacks\n",
       "    console.info(\"Bokeh: all callbacks have finished\");\n",
       "  }\n",
       "\n",
       "  function load_libs(js_urls, callback) {\n",
       "    window._bokeh_onload_callbacks.push(callback);\n",
       "    if (window._bokeh_is_loading > 0) {\n",
       "      console.log(\"Bokeh: BokehJS is being loaded, scheduling callback at\", now());\n",
       "      return null;\n",
       "    }\n",
       "    if (js_urls == null || js_urls.length === 0) {\n",
       "      run_callbacks();\n",
       "      return null;\n",
       "    }\n",
       "    console.log(\"Bokeh: BokehJS not loaded, scheduling load and callback at\", now());\n",
       "    window._bokeh_is_loading = js_urls.length;\n",
       "    for (var i = 0; i < js_urls.length; i++) {\n",
       "      var url = js_urls[i];\n",
       "      var s = document.createElement('script');\n",
       "      s.src = url;\n",
       "      s.async = false;\n",
       "      s.onreadystatechange = s.onload = function() {\n",
       "        window._bokeh_is_loading--;\n",
       "        if (window._bokeh_is_loading === 0) {\n",
       "          console.log(\"Bokeh: all BokehJS libraries loaded\");\n",
       "          run_callbacks()\n",
       "        }\n",
       "      };\n",
       "      s.onerror = function() {\n",
       "        console.warn(\"failed to load library \" + url);\n",
       "      };\n",
       "      console.log(\"Bokeh: injecting script tag for BokehJS library: \", url);\n",
       "      document.getElementsByTagName(\"head\")[0].appendChild(s);\n",
       "    }\n",
       "  };var element = document.getElementById(\"4ff90273-2d6b-418f-8403-2a327e3bc389\");\n",
       "  if (element == null) {\n",
       "    console.log(\"Bokeh: ERROR: autoload.js configured with elementid '4ff90273-2d6b-418f-8403-2a327e3bc389' but no matching script tag was found. \")\n",
       "    return false;\n",
       "  }\n",
       "\n",
       "  var js_urls = [\"https://cdn.pydata.org/bokeh/release/bokeh-0.12.4.min.js\", \"https://cdn.pydata.org/bokeh/release/bokeh-widgets-0.12.4.min.js\"];\n",
       "\n",
       "  var inline_js = [\n",
       "    function(Bokeh) {\n",
       "      Bokeh.set_log_level(\"info\");\n",
       "    },\n",
       "    \n",
       "    function(Bokeh) {\n",
       "      \n",
       "      document.getElementById(\"4ff90273-2d6b-418f-8403-2a327e3bc389\").textContent = \"BokehJS is loading...\";\n",
       "    },\n",
       "    function(Bokeh) {\n",
       "      console.log(\"Bokeh: injecting CSS: https://cdn.pydata.org/bokeh/release/bokeh-0.12.4.min.css\");\n",
       "      Bokeh.embed.inject_css(\"https://cdn.pydata.org/bokeh/release/bokeh-0.12.4.min.css\");\n",
       "      console.log(\"Bokeh: injecting CSS: https://cdn.pydata.org/bokeh/release/bokeh-widgets-0.12.4.min.css\");\n",
       "      Bokeh.embed.inject_css(\"https://cdn.pydata.org/bokeh/release/bokeh-widgets-0.12.4.min.css\");\n",
       "    }\n",
       "  ];\n",
       "\n",
       "  function run_inline_js() {\n",
       "    \n",
       "    if ((window.Bokeh !== undefined) || (force === true)) {\n",
       "      for (var i = 0; i < inline_js.length; i++) {\n",
       "        inline_js[i](window.Bokeh);\n",
       "      }if (force === true) {\n",
       "        display_loaded();\n",
       "      }} else if (Date.now() < window._bokeh_timeout) {\n",
       "      setTimeout(run_inline_js, 100);\n",
       "    } else if (!window._bokeh_failed_load) {\n",
       "      console.log(\"Bokeh: BokehJS failed to load within specified timeout.\");\n",
       "      window._bokeh_failed_load = true;\n",
       "    } else if (force !== true) {\n",
       "      var cell = $(document.getElementById(\"4ff90273-2d6b-418f-8403-2a327e3bc389\")).parents('.cell').data().cell;\n",
       "      cell.output_area.append_execute_result(NB_LOAD_WARNING)\n",
       "    }\n",
       "\n",
       "  }\n",
       "\n",
       "  if (window._bokeh_is_loading === 0) {\n",
       "    console.log(\"Bokeh: BokehJS loaded, going straight to plotting\");\n",
       "    run_inline_js();\n",
       "  } else {\n",
       "    load_libs(js_urls, function() {\n",
       "      console.log(\"Bokeh: BokehJS plotting callback run at\", now());\n",
       "      run_inline_js();\n",
       "    });\n",
       "  }\n",
       "}(this));"
      ]
     },
     "metadata": {},
     "output_type": "display_data"
    }
   ],
   "source": [
    "output_notebook()"
   ]
  },
  {
   "cell_type": "markdown",
   "metadata": {
    "collapsed": true
   },
   "source": [
    "감사합니다."
   ]
  }
 ],
 "metadata": {
  "kernelspec": {
   "display_name": "Python 3",
   "language": "python",
   "name": "python3"
  },
  "language_info": {
   "codemirror_mode": {
    "name": "ipython",
    "version": 3
   },
   "file_extension": ".py",
   "mimetype": "text/x-python",
   "name": "python",
   "nbconvert_exporter": "python",
   "pygments_lexer": "ipython3",
   "version": "3.6.0"
  }
 },
 "nbformat": 4,
 "nbformat_minor": 2
}
