{
 "cells": [
  {
   "cell_type": "markdown",
   "metadata": {},
   "source": [
    "<img src=\"1.png\" width=\"700\"><BR>"
   ]
  },
  {
   "cell_type": "markdown",
   "metadata": {},
   "source": [
    "# 정의 : 주어진 문서에 대하여 각 문서에 어떤 주제들이 존재하는지에 대한 확률 모형"
   ]
  },
  {
   "cell_type": "markdown",
   "metadata": {},
   "source": [
    "<img src=\"3.png\" width=\"800\"><BR>"
   ]
  },
  {
   "cell_type": "markdown",
   "metadata": {},
   "source": [
    "<img src=\"2.png\" width=\"700\"><BR>"
   ]
  },
  {
   "cell_type": "markdown",
   "metadata": {},
   "source": [
    "# 1. 데이터 로딩"
   ]
  },
  {
   "cell_type": "markdown",
   "metadata": {},
   "source": [
    "실습 데이터는 위키피디아 만 개의 문장을 사용\n",
    "위키 피디아 한국어 전체 다운로드 링크 : \n",
    "https://ko.wikipedia.org/wiki/%EC%9C%84%ED%82%A4%EB%B0%B1%EA%B3%BC:%EB%8D%B0%EC%9D%B4%ED%84%B0%EB%B2%A0%EC%9D%B4%EC%8A%A4_%EB%8B%A4%EC%9A%B4%EB%A1%9C%EB%93%9C\n"
   ]
  },
  {
   "cell_type": "code",
   "execution_count": 1,
   "metadata": {},
   "outputs": [],
   "source": [
    "from collections import Counter\n",
    "from gensim import corpora, models\n",
    "from pprint import pprint\n",
    "from functools import reduce\n",
    "from konlpy.tag import Twitter #Komoran, Hannanum등 다른 형태소 분석기도 가능\n"
   ]
  },
  {
   "cell_type": "code",
   "execution_count": 2,
   "metadata": {
    "collapsed": true
   },
   "outputs": [],
   "source": [
    "import bokeh.sampledata\n",
    "import numpy as np\n",
    "from sklearn.manifold import TSNE"
   ]
  },
  {
   "cell_type": "code",
   "execution_count": 3,
   "metadata": {
    "scrolled": false
   },
   "outputs": [
    {
     "name": "stdout",
     "output_type": "stream",
     "text": [
      "CPU times: user 7.03 ms, sys: 2.93 ms, total: 9.96 ms\n",
      "Wall time: 14.2 ms\n"
     ]
    }
   ],
   "source": [
    "%%time\n",
    "with open('/Users/song-yeongsug/anaconda/LDA0603/lda/kowiki.csv', 'r') as f:\n",
    "     docs_wi = [line for line in f.read().splitlines()]\n"
   ]
  },
  {
   "cell_type": "markdown",
   "metadata": {},
   "source": [
    "# 2. 자르기(Tokenize)"
   ]
  },
  {
   "cell_type": "code",
   "execution_count": 8,
   "metadata": {},
   "outputs": [
    {
     "name": "stdout",
     "output_type": "stream",
     "text": [
      "['\\ufeff/Foreign', '!!/Punctuation', '늘다/Verb', '체스/Noun', '에서/Josa', \"'/Punctuation\", '훌륭하다/Adjective', '이동/Noun', \"'/Punctuation\", '을/Josa', '하다/Verb', '때/Noun', '를/Josa', '나타내다/Verb', './Punctuation']\n"
     ]
    }
   ],
   "source": [
    "#-*- coding: utf-8 -*-\n",
    "from konlpy.tag import Twitter; t = Twitter()\n",
    "pos = lambda d: ['/'.join(p) for p in t.pos(d, stem=True, norm=True)]\n",
    "texts_wi = [pos(doc) for doc in docs_wi]\n",
    "print(texts_wi[0])"
   ]
  },
  {
   "cell_type": "code",
   "execution_count": 13,
   "metadata": {},
   "outputs": [],
   "source": [
    "dictionary = corpora.Dictionary(texts_wi)"
   ]
  },
  {
   "cell_type": "code",
   "execution_count": 14,
   "metadata": {},
   "outputs": [
    {
     "data": {
      "text/plain": [
       "[(0, '\\ufeff/Foreign'),\n",
       " (1, '!!/Punctuation'),\n",
       " (2, '늘다/Verb'),\n",
       " (3, '체스/Noun'),\n",
       " (4, '에서/Josa'),\n",
       " (5, \"'/Punctuation\"),\n",
       " (6, '훌륭하다/Adjective'),\n",
       " (7, '이동/Noun'),\n",
       " (8, '을/Josa'),\n",
       " (9, '하다/Verb'),\n",
       " (10, '때/Noun'),\n",
       " (11, '를/Josa'),\n",
       " (12, '나타내다/Verb'),\n",
       " (13, './Punctuation'),\n",
       " (14, '수학/Noun'),\n",
       " (15, '이중/Noun'),\n",
       " (16, '팩토리얼/Noun'),\n",
       " (17, '!!!/Punctuation'),\n",
       " (18, '(/Punctuation'),\n",
       " (19, '칙칙/Adverb'),\n",
       " (20, '으로/Josa'),\n",
       " (21, '읽다/Verb'),\n",
       " (22, ')/Punctuation'),\n",
       " (23, '은/Noun'),\n",
       " (24, '1996/Number'),\n",
       " (25, '년/Noun'),\n",
       " (26, '결성/Noun'),\n",
       " (27, '되다/Verb'),\n",
       " (28, '미국/Noun'),\n",
       " (29, '의/Josa'),\n",
       " (30, '댄스/Noun'),\n",
       " (31, '펑크/Noun'),\n",
       " (32, '밴드/Noun'),\n",
       " (33, '이다/Josa'),\n",
       " (34, '\"/Punctuation'),\n",
       " (35, 'Me/Alpha'),\n",
       " (36, 'and/Alpha'),\n",
       " (37, 'Giuliani/Alpha'),\n",
       " (38, 'Down/Alpha'),\n",
       " (39, 'by/Alpha'),\n",
       " (40, 'the/Alpha'),\n",
       " (41, 'Schoolyard/Alpha'),\n",
       " (42, 'a/Alpha'),\n",
       " (43, 'true/Alpha'),\n",
       " (44, 'story/Alpha'),\n",
       " (45, '나/Noun'),\n",
       " (46, '\"\"/Punctuation'),\n",
       " (47, 'Must/Alpha'),\n",
       " (48, 'Be/Alpha'),\n",
       " (49, 'Moon/Alpha'),\n",
       " (50, '로/Noun'),\n",
       " (51, '알려지다/Verb'),\n",
       " (52, '.\"/Punctuation'),\n",
       " (53, '새크라멘토/Noun'),\n",
       " (54, '출신/Noun'),\n",
       " (55, '이지만/Josa'),\n",
       " (56, '지금/Noun'),\n",
       " (57, '은/Josa'),\n",
       " (58, '뉴욕/Noun'),\n",
       " (59, '시/Noun'),\n",
       " (60, ',/Punctuation'),\n",
       " (61, '포틀랜드/Noun'),\n",
       " (62, '에/Josa'),\n",
       " (63, '기반/Noun'),\n",
       " (64, '두다/Verb'),\n",
       " (65, '있다/Adjective'),\n",
       " (66, '2006/Number'),\n",
       " (67, '레드/Noun'),\n",
       " (68, '핫/Noun'),\n",
       " (69, '칠리/Noun'),\n",
       " (70, '페퍼스/Noun'),\n",
       " (71, '존/Noun'),\n",
       " (72, '프/Noun'),\n",
       " (73, '루시안/Noun'),\n",
       " (74, '테/Noun'),\n",
       " (75, '가/Josa'),\n",
       " (76, 'LA/Alpha'),\n",
       " (77, '에서/Noun'),\n",
       " (78, '이/Noun'),\n",
       " (79, '들/Suffix'),\n",
       " (80, '공연/Noun'),\n",
       " (81, '보고/Noun'),\n",
       " (82, '영국/Noun'),\n",
       " (83, '순회/Noun'),\n",
       " (84, '서다/Verb'),\n",
       " (85, '포트/Noun'),\n",
       " (86, '로/Josa'),\n",
       " (87, '초대/Noun'),\n",
       " (88, '《/Foreign'),\n",
       " (89, '!/Punctuation'),\n",
       " (90, '-/Punctuation'),\n",
       " (91, 'attention/Alpha'),\n",
       " (92, '》/Foreign'),\n",
       " (93, '1998/Number'),\n",
       " (94, '9/Number'),\n",
       " (95, '월/Noun'),\n",
       " (96, '30/Number'),\n",
       " (97, '일/Noun'),\n",
       " (98, '발매/Noun'),\n",
       " (99, '한/Josa'),\n",
       " (100, '20/Number'),\n",
       " (101, 'th/Alpha'),\n",
       " (102, 'Century/Alpha'),\n",
       " (103, '의/Noun'),\n",
       " (104, '2/Number'),\n",
       " (105, '번째/Suffix'),\n",
       " (106, '앨범/Noun'),\n",
       " (107, '전/Noun'),\n",
       " (108, '곡/Noun'),\n",
       " (109, '이/Josa'),\n",
       " (110, '어/Noun'),\n",
       " (111, '두운/Noun'),\n",
       " (112, '선택/Noun'),\n",
       " (113, '되어다/Verb'),\n",
       " (114, '초/Noun'),\n",
       " (115, '회한/Noun'),\n",
       " (116, '정반/Noun'),\n",
       " (117, '통상/Noun'),\n",
       " (118, '반/Noun'),\n",
       " (119, '가지/Noun'),\n",
       " (120, '형태/Noun'),\n",
       " (121, '특전/Noun'),\n",
       " (122, '오리/Noun'),\n",
       " (123, '지나다/Verb'),\n",
       " (124, '키홀/Noun'),\n",
       " (125, '더/Noun'),\n",
       " (126, '봉입/Noun'),\n",
       " (127, '또/Noun'),\n",
       " (128, '동시/Noun'),\n",
       " (129, 'Coming/Alpha'),\n",
       " (130, 'VHS/Alpha'),\n",
       " (131, '?/Punctuation'),\n",
       " (132, 'question/Alpha'),\n",
       " (133, '구입/Noun'),\n",
       " (134, '두/Noun'),\n",
       " (135, '음반/Noun'),\n",
       " (136, '들다/Verb'),\n",
       " (137, '응모/Noun'),\n",
       " (138, '권/Suffix'),\n",
       " (139, '보내다/Verb'),\n",
       " (140, 'V/Alpha'),\n",
       " (141, '6/Number'),\n",
       " (142, '자명종/Noun'),\n",
       " (143, '&/Punctuation'),\n",
       " (144, '부재/Noun'),\n",
       " (145, '중/Suffix'),\n",
       " (146, '안내/Noun'),\n",
       " (147, '서비스/Noun'),\n",
       " (148, '8/Number'),\n",
       " (149, 'cm/Alpha'),\n",
       " (150, 'CD/Alpha'),\n",
       " (151, '장/Noun'),\n",
       " (152, '셋트/Noun'),\n",
       " (153, '를/Noun'),\n",
       " (154, '추첨/Noun'),\n",
       " (155, '2000/Number'),\n",
       " (156, '명/Noun'),\n",
       " (157, '당첨/Noun'),\n",
       " (158, '발표/Noun'),\n",
       " (159, '도/Josa'),\n",
       " (160, '쿵어/Noun'),\n",
       " (161, '는/Josa'),\n",
       " (162, '쿵족/Noun'),\n",
       " (163, '사용/Noun'),\n",
       " (164, '언어/Noun'),\n",
       " (165, '\"!/Punctuation'),\n",
       " (166, '나미비아/Noun'),\n",
       " (167, '보츠와나/Noun'),\n",
       " (168, '앙골라/Noun'),\n",
       " (169, '걸치다/Verb'),\n",
       " (170, '칼라/Noun'),\n",
       " (171, '하리/Noun'),\n",
       " (172, '사막/Noun'),\n",
       " (173, '퍼지다/Verb'),\n",
       " (174, '살/Noun'),\n",
       " (175, '고/Josa'),\n",
       " (176, '민족/Noun'),\n",
       " (177, '코/Noun'),\n",
       " (178, '이산/Noun'),\n",
       " (179, '어족/Noun'),\n",
       " (180, '흡착/Noun'),\n",
       " (181, '어인/Noun'),\n",
       " (182, '느낌표/Noun'),\n",
       " (183, '앞니/Noun'),\n",
       " (184, '뒤/Noun'),\n",
       " (185, '혀/Noun'),\n",
       " (186, '대다/Verb'),\n",
       " (187, '강하다/Adjective'),\n",
       " (188, '발음/Noun'),\n",
       " (189, '뜻/Noun'),\n",
       " (190, '주로/Noun'),\n",
       " (191, '채집/Noun'),\n",
       " (192, '생활/Noun'),\n",
       " (193, 'HAPPY/Alpha'),\n",
       " (194, 'Forever/Alpha'),\n",
       " (195, '5/Number'),\n",
       " (196, '정규/Noun'),\n",
       " (197, '검정/Noun'),\n",
       " (198, '케이스/Noun'),\n",
       " (199, '와/Josa'),\n",
       " (200, '대형/Noun'),\n",
       " (201, '소책자/Noun'),\n",
       " (202, '슬리브/Noun'),\n",
       " (203, 'Sleeve/Alpha'),\n",
       " (204, '특별/Noun'),\n",
       " (205, '포장/Noun'),\n",
       " (206, '과/Josa'),\n",
       " (207, '타입/Noun'),\n",
       " (208, '첫/Noun'),\n",
       " (209, '회/Noun'),\n",
       " (210, '패키지/Noun'),\n",
       " (211, '포토/Noun'),\n",
       " (212, '북/Noun'),\n",
       " (213, 'IN/Alpha'),\n",
       " (214, 'NEW/Alpha'),\n",
       " (215, 'YORK/Alpha'),\n",
       " (216, '),/Punctuation'),\n",
       " (217, '파노라마/Noun'),\n",
       " (218, '스티커/Noun'),\n",
       " (219, '스페셜/Noun'),\n",
       " (220, '이벤트/Noun'),\n",
       " (221, '참가/Noun'),\n",
       " (222, '보너스/Noun'),\n",
       " (223, '트랙/Noun'),\n",
       " (224, '수록/Noun'),\n",
       " (225, '이상/Noun'),\n",
       " (226, '15/Number'),\n",
       " (227, '째/Suffix'),\n",
       " (228, '까지/Josa'),\n",
       " (229, '싱글/Noun'),\n",
       " (230, '메들리/Noun'),\n",
       " (231, 'MEGAMIX/Alpha'),\n",
       " (232, 'LUCKY/Alpha'),\n",
       " (233, 'to/Alpha'),\n",
       " (234, 'be/Alpha'),\n",
       " (235, 'continued/Alpha'),\n",
       " (236, '.../Punctuation'),\n",
       " (237, '가다/Verb'),\n",
       " (238, '1999/Number'),\n",
       " (239, '18/Number'),\n",
       " (240, '4/Number'),\n",
       " (241, '쿠키/Noun'),\n",
       " (242, '향/Noun'),\n",
       " (243, '나다/Verb'),\n",
       " (244, '특수/Noun'),\n",
       " (245, '제작/Noun'),\n",
       " (246, '자켓/Noun'),\n",
       " (247, '건/Noun'),\n",
       " (248, 'SINCE/Alpha'),\n",
       " (249, '1995/Number'),\n",
       " (250, '~/Punctuation'),\n",
       " (251, 'FOREVER/Alpha'),\n",
       " (252, '이후/Noun'),\n",
       " (253, '3/Number'),\n",
       " (254, '만이/Noun'),\n",
       " (255, '다/Josa'),\n",
       " (256, '마지막/Noun'),\n",
       " (257, '리믹스/Noun'),\n",
       " (258, '들어가다/Verb'),\n",
       " (259, '것/Noun'),\n",
       " (260, '에서는/Josa'),\n",
       " (261, '이번/Noun'),\n",
       " (262, '각각/Noun'),\n",
       " (263, '처음/Noun'),\n",
       " (264, ').\"/Punctuation'),\n",
       " (265, 'O/Alpha'),\n",
       " (266, '\"\"-/Punctuation'),\n",
       " (267, '正/Foreign'),\n",
       " (268, '反/Foreign'),\n",
       " (269, '合/Foreign'),\n",
       " (270, '(\"\"/Punctuation'),\n",
       " (271, '정/Noun'),\n",
       " (272, '합/Noun'),\n",
       " (273, '.)/Punctuation'),\n",
       " (274, '대한민국/Noun'),\n",
       " (275, '동방신기/Noun'),\n",
       " (276, '세/Noun'),\n",
       " (277, 'A/Alpha'),\n",
       " (278, 'B/Alpha'),\n",
       " (279, 'Ver/Alpha'),\n",
       " (280, './/Punctuation'),\n",
       " (281, 'C/Alpha'),\n",
       " (282, 'D/Alpha'),\n",
       " (283, '.)\"/Punctuation'),\n",
       " (284, '1/Number'),\n",
       " (285, '//Punctuation'),\n",
       " (286, '7/Number'),\n",
       " (287, '10/Number'),\n",
       " (288, '11/Number'),\n",
       " (289, '12/Number'),\n",
       " (290, '극장/Noun'),\n",
       " (291, '드라마/Noun'),\n",
       " (292, 'VACATION/Alpha'),\n",
       " (293, 'Highlight/Alpha'),\n",
       " (294, 'M/Alpha'),\n",
       " (295, '그리고/Conjunction'),\n",
       " (296, '..../Punctuation'),\n",
       " (297, 'Holding/Alpha'),\n",
       " (298, 'Back/Alpha'),\n",
       " (299, 'Tears/Alpha'),\n",
       " (300, '...)\\'\"/Punctuation'),\n",
       " (301, 'Jacket/Alpha'),\n",
       " (302, 'Sketch/Alpha'),\n",
       " (303, 'in/Alpha'),\n",
       " (304, 'Prague/Alpha'),\n",
       " (305, '*/Punctuation'),\n",
       " (306, 'Interview/Alpha'),\n",
       " (307, 'About/Alpha'),\n",
       " (308, 'TVXQ/Alpha'),\n",
       " (309, 'Member/Alpha'),\n",
       " (310, 's/Alpha'),\n",
       " (311, 'Making/Alpha'),\n",
       " (312, 'Film/Alpha'),\n",
       " (313, ':/Punctuation'),\n",
       " (314, '00/Number'),\n",
       " (315, '東方神起/Foreign'),\n",
       " (316, 'Exclusive/Alpha'),\n",
       " (317, 'Story/Alpha'),\n",
       " (318, 'Something/Alpha'),\n",
       " (319, 'New/Alpha'),\n",
       " (320, '!*/Punctuation'),\n",
       " (321, 'talk/Alpha'),\n",
       " (322, 'Vacation/Alpha'),\n",
       " (323, 'Introduction/Alpha'),\n",
       " (324, 'Full/Alpha'),\n",
       " (325, 'NG/Alpha'),\n",
       " (326, 'Special/Alpha'),\n",
       " (327, 'Behind/Alpha'),\n",
       " (328, 'The/Alpha'),\n",
       " (329, 'rd/Alpha'),\n",
       " (330, 'Album/Alpha'),\n",
       " (331, '“/Foreign'),\n",
       " (332, '”/Foreign'),\n",
       " (333, 'Showcase/Alpha'),\n",
       " (334, 'No/Alpha'),\n",
       " (335, 'Cut/Alpha'),\n",
       " (336, 'ver/Alpha'),\n",
       " (337, 'Hug/Alpha'),\n",
       " (338, 'Memory/Alpha'),\n",
       " (339, 'MusicVideo/Alpha'),\n",
       " (340, 'Way/Alpha'),\n",
       " (341, 'U/Alpha'),\n",
       " (342, 'Are/Alpha'),\n",
       " (343, '믿다/Verb'),\n",
       " (344, 'I/Alpha'),\n",
       " (345, 'Believe/Alpha'),\n",
       " (346, \")'/Punctuation\"),\n",
       " (347, 'TRI/Alpha'),\n",
       " (348, 'ANGLE/Alpha'),\n",
       " (349, 'Rising/Alpha'),\n",
       " (350, 'Sun/Alpha'),\n",
       " (351, '풍선/Noun'),\n",
       " (352, 'Balloons/Alpha'),\n",
       " (353, 'Our/Alpha'),\n",
       " (354, 'Secret/Alpha'),\n",
       " (355, 'Code/Alpha'),\n",
       " (356, '++/Punctuation'),\n",
       " (357, '리더/Noun'),\n",
       " (358, '유노윤호/Noun'),\n",
       " (359, 'KBS/Alpha'),\n",
       " (360, '별관/Noun'),\n",
       " (361, '서/Josa'),\n",
       " (362, '진행/Noun'),\n",
       " (363, '여걸식스/Noun'),\n",
       " (364, '녹화/Noun'),\n",
       " (365, '후/Noun'),\n",
       " (366, '편의점/Noun'),\n",
       " (367, '음료수/Noun'),\n",
       " (368, '사다/Verb'),\n",
       " (369, '중/Noun'),\n",
       " (370, '팬/Noun'),\n",
       " (371, '가장/Noun'),\n",
       " (372, '여성/Noun'),\n",
       " (373, '으로부터/Josa'),\n",
       " (374, '건네다/Verb'),\n",
       " (375, '받다/Verb'),\n",
       " (376, '본드/Noun'),\n",
       " (377, '말다/Verb'),\n",
       " (378, '구토/Noun'),\n",
       " (379, '증세/Noun'),\n",
       " (380, '보이다/Verb'),\n",
       " (381, '즉시/Noun'),\n",
       " (382, '병원/Noun'),\n",
       " (383, '옮기다/Verb'),\n",
       " (384, '현장/Noun'),\n",
       " (385, '관계자/Noun'),\n",
       " (386, '따르다/Verb'),\n",
       " (387, '당시/Noun'),\n",
       " (388, '음료/Noun'),\n",
       " (389, '곧바로/Noun'),\n",
       " (390, '당초/Noun'),\n",
       " (391, '피/Noun'),\n",
       " (392, '토/Noun'),\n",
       " (393, '출혈/Noun'),\n",
       " (394, '없다/Adjective'),\n",
       " (395, '밝혀지다/Verb'),\n",
       " (396, '중단/Noun'),\n",
       " (397, '후송/Noun'),\n",
       " (398, '돼다/Verb'),\n",
       " (399, '진단/Noun'),\n",
       " (400, '안티팬/Noun'),\n",
       " (401, '쪽지/Noun'),\n",
       " (402, '에는/Josa'),\n",
       " (403, '애/Noun'),\n",
       " (404, '이나/Josa'),\n",
       " (405, '좋아하다/Adjective'),\n",
       " (406, '인기/Noun'),\n",
       " (407, '많다/Adjective'),\n",
       " (408, '줄/Noun'),\n",
       " (409, '안다/Verb'),\n",
       " (410, '춤/Noun'),\n",
       " (411, '자다/Verb'),\n",
       " (412, '추다/Verb'),\n",
       " (413, '착각/Noun'),\n",
       " (414, '죽이다/Verb'),\n",
       " (415, '버리다/Verb'),\n",
       " (416, '싶다/Verb'),\n",
       " (417, '등/Noun'),\n",
       " (418, '내용/Noun'),\n",
       " (419, '포함/Noun'),\n",
       " (420, '생태/Noun'),\n",
       " (421, '및/Noun'),\n",
       " (422, '사회/Noun'),\n",
       " (423, '보호/Noun'),\n",
       " (424, '위/Noun'),\n",
       " (425, '전우/Noun'),\n",
       " (426, '크라이나/Noun'),\n",
       " (427, '당/Suffix'),\n",
       " (428, '()/Punctuation'),\n",
       " (429, '2003/Number'),\n",
       " (430, '등록/Noun'),\n",
       " (431, '우크라이나/Noun'),\n",
       " (432, '정당/Noun'),\n",
       " (433, '당다/Verb'),\n",
       " (434, '2007/Number'),\n",
       " (435, '까지는/Josa'),\n",
       " (436, '전국/Noun'),\n",
       " (437, '적/Suffix'),\n",
       " (438, '인/Josa'),\n",
       " (439, '범위/Noun'),\n",
       " (440, '선거/Noun'),\n",
       " (441, '참여/Noun'),\n",
       " (442, '않다/Verb'),\n",
       " (443, '총선/Noun'),\n",
       " (444, '크리스찬/Noun'),\n",
       " (445, '블록/Noun'),\n",
       " (446, '일부/Noun'),\n",
       " (447, '의석/Noun'),\n",
       " (448, '얻다/Verb'),\n",
       " (449, '데/Noun'),\n",
       " (450, '실패/Noun'),\n",
       " (451, '2012/Number'),\n",
       " (452, '2014/Number'),\n",
       " (453, '에도/Josa'),\n",
       " (454, '\"$/Punctuation'),\n",
       " (455, '통화기호/Noun'),\n",
       " (456, '가운데/Noun'),\n",
       " (457, '하나로/Noun'),\n",
       " (458, '달러/Noun'),\n",
       " (459, '기호/Noun'),\n",
       " (460, '또는/Adverb'),\n",
       " (461, '페소/Noun'),\n",
       " (462, '라고/Josa'),\n",
       " (463, '부르다/Verb'),\n",
       " (464, '[&]/Punctuation'),\n",
       " (465, 'Seotaiji/Alpha'),\n",
       " (466, 'Anniversary/Alpha'),\n",
       " (467, '서태지/Noun'),\n",
       " (468, '데뷔/Noun'),\n",
       " (469, '주년/Noun'),\n",
       " (470, '기념/Noun'),\n",
       " (471, '아이/Noun'),\n",
       " (472, '시절/Noun'),\n",
       " (473, '집/Noun'),\n",
       " (474, '부터/Josa'),\n",
       " (475, '솔로/Noun'),\n",
       " (476, '까지의/Josa'),\n",
       " (477, '박스/Noun'),\n",
       " (478, '세트/Noun'),\n",
       " (479, 'DVD/Alpha'),\n",
       " (480, '이전/Noun'),\n",
       " (481, '몸/Noun'),\n",
       " (482, '담다/Verb'),\n",
       " (483, '메탈/Noun'),\n",
       " (484, '시나위/Noun'),\n",
       " (485, '영상/Noun'),\n",
       " (486, '각종/Noun'),\n",
       " (487, '뮤직비디오/Noun'),\n",
       " (488, '밉다/Adjective'),\n",
       " (489, '공개/Noun'),\n",
       " (490, '광고/Noun'),\n",
       " (491, '부터/Noun'),\n",
       " (492, '자료/Noun'),\n",
       " (493, '모으다/Verb'),\n",
       " (494, '모든/Noun'),\n",
       " (495, '전곡/Noun'),\n",
       " (496, '《‘/Foreign'),\n",
       " (497, '07/Number'),\n",
       " (498, '교실/Noun'),\n",
       " (499, '이데아/Noun'),\n",
       " (500, 'Remix/Alpha'),\n",
       " (501, 'COME/Alpha'),\n",
       " (502, 'BACK/Alpha'),\n",
       " (503, 'HOME/Alpha'),\n",
       " (504, '03/Number'),\n",
       " (505, '대경성/Noun'),\n",
       " (506, '인터넷/Noun'),\n",
       " (507, '전쟁/Noun'),\n",
       " (508, '장의/Noun'),\n",
       " (509, '실황/Noun'),\n",
       " (510, '난/Noun'),\n",
       " (511, '알다/Verb'),\n",
       " (512, '디지털/Noun'),\n",
       " (513, '로만/Noun'),\n",
       " (514, '판매/Noun'),\n",
       " (515, 'Watch/Alpha'),\n",
       " (516, 'Out/Alpha'),\n",
       " (517, '방송/Noun'),\n",
       " (518, '활동/Noun'),\n",
       " (519, '하여가/Noun'),\n",
       " (520, 'Hip/Alpha'),\n",
       " (521, 'Hop/Alpha'),\n",
       " (522, 'Version/Alpha'),\n",
       " (523, 'TV/Alpha'),\n",
       " (524, 'Edit/Alpha'),\n",
       " (525, '특히/Adverb'),\n",
       " (526, '음원/Noun'),\n",
       " (527, '리/Noun'),\n",
       " (528, '마스터링/Noun'),\n",
       " (529, '작업/Noun'),\n",
       " (530, '거치다/Verb'),\n",
       " (531, '음질/Noun'),\n",
       " (532, '높이다/Verb'),\n",
       " (533, '아날로그/Noun'),\n",
       " (534, '디지털화/Noun'),\n",
       " (535, '화질/Noun'),\n",
       " (536, '한정판/Noun'),\n",
       " (537, '만/Noun'),\n",
       " (538, '5000/Number'),\n",
       " (539, '장만/Noun'),\n",
       " (540, '금세/Noun'),\n",
       " (541, '전량/Noun'),\n",
       " (542, '매진/Noun'),\n",
       " (543, '가격/Noun'),\n",
       " (544, '경매/Noun'),\n",
       " (545, '100/Number'),\n",
       " (546, '만원/Noun'),\n",
       " (547, '호가/Noun'),\n",
       " (548, '모두/Noun'),\n",
       " (549, '품절/Noun'),\n",
       " (550, '추가/Noun'),\n",
       " (551, '요구/Noun'),\n",
       " (552, '일반/Noun'),\n",
       " (553, '판/Noun'),\n",
       " (554, '논란/Noun'),\n",
       " (555, '2009/Number'),\n",
       " (556, '정규앨범/Noun'),\n",
       " (557, '재/Noun'),\n",
       " (558, '구성은/Noun'),\n",
       " (559, '에서의/Josa'),\n",
       " (560, '마찬가지/Noun'),\n",
       " (561, '원곡/Noun'),\n",
       " (562, '혹은/Adverb'),\n",
       " (563, '리레/Noun'),\n",
       " (564, '코딩/Noun'),\n",
       " (565, '버전/Noun'),\n",
       " (566, '라이브/Noun'),\n",
       " (567, '히든트랙/Noun'),\n",
       " (568, '동일하다/Adjective'),\n",
       " (569, '직접/Noun'),\n",
       " (570, '전무/Noun'),\n",
       " (571, '삼성/Noun'),\n",
       " (572, '전자/Noun'),\n",
       " (573, '14/Number'),\n",
       " (574, '동영상/Noun'),\n",
       " (575, '에디/Noun'),\n",
       " (576, '션/Noun'),\n",
       " (577, '내장/Noun'),\n",
       " (578, 'MP/Alpha'),\n",
       " (579, '‘/Foreign'),\n",
       " (580, '옙/Noun'),\n",
       " (581, 'P/Alpha'),\n",
       " (582, '’/Foreign'),\n",
       " (583, '콘서트/Noun'),\n",
       " (584, '열리다/Verb'),\n",
       " (585, '45/Number'),\n",
       " (586, 'RPM/Alpha'),\n",
       " (587, '나윤권/Noun'),\n",
       " (588, '에픽하이/Noun'),\n",
       " (589, '피아/Noun'),\n",
       " (590, '스윗소로우/Noun'),\n",
       " (591, '노래/Noun'),\n",
       " (592, '불렀으/Noun'),\n",
       " (593, '며/Josa'),\n",
       " (594, '빅뱅/Noun'),\n",
       " (595, '〈/Foreign'),\n",
       " (596, '필승/Noun'),\n",
       " (597, '〉/Foreign'),\n",
       " (598, '게릴라/Noun'),\n",
       " (599, '순서/Noun'),\n",
       " (600, '끝나다/Verb'),\n",
       " (601, '최근/Noun'),\n",
       " (602, '모습/Noun'),\n",
       " (603, '담기다/Verb'),\n",
       " (604, '하고/Josa'),\n",
       " (605, '편지/Noun'),\n",
       " (606, '25/Number'),\n",
       " (607, '엠넷/Noun'),\n",
       " (608, '통해/Noun'),\n",
       " (609, '31/Number'),\n",
       " (610, '포털사이트/Noun'),\n",
       " (611, '네이버/Noun'),\n",
       " (612, '온라인/Noun'),\n",
       " (613, '전시관/Noun'),\n",
       " (614, '열다/Verb'),\n",
       " (615, '서태지컴퍼니/Noun'),\n",
       " (616, '프로듀서/Noun'),\n",
       " (617, '이그/Noun'),\n",
       " (618, '제큐티브/Noun'),\n",
       " (619, '김석/Noun'),\n",
       " (620, 'Tower/Alpha'),\n",
       " (621, 'Mastering/Alpha'),\n",
       " (622, '스튜디오/Noun'),\n",
       " (623, 'Techno/Alpha'),\n",
       " (624, 'T/Alpha'),\n",
       " (625, 'Eizenshtein/Alpha'),\n",
       " (626, 'Project/Alpha'),\n",
       " (627, 'NO/Alpha'),\n",
       " (628, '프로덕션/Noun'),\n",
       " (629, '한동욱/Noun'),\n",
       " (630, '디렉터/Noun'),\n",
       " (631, '박현주/Noun'),\n",
       " (632, '최/Noun'),\n",
       " (633, '보다/Verb'),\n",
       " (634, '보조/Noun'),\n",
       " (635, 'Geneal/Alpha'),\n",
       " (636, 'Ideas/Alpha'),\n",
       " (637, '임/Noun'),\n",
       " (638, '종현/Noun'),\n",
       " (639, 'Day/Alpha'),\n",
       " (640, 'z/Alpha'),\n",
       " (641, '디자인/Noun'),\n",
       " (642, '하지영/Noun'),\n",
       " (643, '김민석/Noun'),\n",
       " (644, '프로/Noun'),\n",
       " (645, '덕트/Noun'),\n",
       " (646, '플랜/Noun'),\n",
       " (647, '관리/Noun'),\n",
       " (648, '김정은/Noun'),\n",
       " (649, '주/Noun'),\n",
       " (650, '진태/Noun'),\n",
       " (651, '02/Number'),\n",
       " (652, 'Summer/Alpha'),\n",
       " (653, 'SMTOWN.com/URL'),\n",
       " (654, '연예기획사/Noun'),\n",
       " (655, 'SM/Alpha'),\n",
       " (656, '엔터테인먼트/Noun'),\n",
       " (657, '소속/Noun'),\n",
       " (658, '가수/Noun'),\n",
       " (659, '모이다/Verb'),\n",
       " (660, '네/Noun'),\n",
       " (661, '이자/Noun'),\n",
       " (662, '여름/Noun'),\n",
       " (663, '2002/Number'),\n",
       " (664, '남성/Noun'),\n",
       " (665, '인조/Noun'),\n",
       " (666, '음악/Noun'),\n",
       " (667, '그룹/Noun'),\n",
       " (668, '블랙/Noun'),\n",
       " (669, '비트/Noun'),\n",
       " (670, '신비가/Noun'),\n",
       " (671, '새롭다/Adjective'),\n",
       " (672, '크리스마스/Noun'),\n",
       " (673, '캐럴/Noun'),\n",
       " (674, '이루다/Verb'),\n",
       " (675, '겨울/Noun'),\n",
       " (676, '달리/Noun'),\n",
       " (677, '대다수/Noun'),\n",
       " (678, '문희준/Noun'),\n",
       " (679, '강타/Noun'),\n",
       " (680, 'S/Alpha'),\n",
       " (681, 'E/Alpha'),\n",
       " (682, '.(/Punctuation'),\n",
       " (683, '바다/Noun'),\n",
       " (684, '유진/Noun'),\n",
       " (685, '슈/Noun'),\n",
       " (686, ')\"/Punctuation'),\n",
       " (687, '신화/Noun'),\n",
       " (688, '에릭/Noun'),\n",
       " (689, '신혜성/Noun'),\n",
       " (690, '이민우/Noun'),\n",
       " (691, '전진/Noun'),\n",
       " (692, '김동완/Noun'),\n",
       " (693, '앤디/Noun'),\n",
       " (694, '플라이/Noun'),\n",
       " (695, '투/Noun'),\n",
       " (696, '스카이/Noun'),\n",
       " (697, '환희/Noun'),\n",
       " (698, '브라이언/Noun'),\n",
       " (699, '보아/Noun'),\n",
       " (700, '다나/Noun'),\n",
       " (701, '밀크/Noun'),\n",
       " (702, '박재영/Noun'),\n",
       " (703, '김보미/Noun'),\n",
       " (704, '배유미/Noun'),\n",
       " (705, '서현진/Noun'),\n",
       " (706, '이소민/Noun'),\n",
       " (707, '황상훈/Noun'),\n",
       " (708, '정지훈/Noun'),\n",
       " (709, '장진영/Noun'),\n",
       " (710, '심재원/Noun'),\n",
       " (711, '신비/Noun'),\n",
       " (712, '수진/Noun'),\n",
       " (713, '상/Noun'),\n",
       " (714, '유나/Noun'),\n",
       " (715, '내일/Noun'),\n",
       " (716, '찾아오다/Verb'),\n",
       " (717, '오/Noun'),\n",
       " (718, '박의/Noun'),\n",
       " (719, '1989/Number'),\n",
       " (720, '여름날/Noun'),\n",
       " (721, '추억/Noun'),\n",
       " (722, '이정석/Noun'),\n",
       " (723, 'Amazing/Alpha'),\n",
       " (724, 'Kiss/Alpha'),\n",
       " (725, '2001/Number'),\n",
       " (726, '일본/Noun'),\n",
       " (727, 'Just/Alpha'),\n",
       " (728, 'Feeling/Alpha'),\n",
       " (729, 'Choose/Alpha'),\n",
       " (730, 'My/Alpha'),\n",
       " (731, 'Life/Alpha'),\n",
       " (732, '여섯/Noun'),\n",
       " (733, '불법/Noun'),\n",
       " (734, '복제/Noun'),\n",
       " (735, '막다/Verb'),\n",
       " (736, '위해/Noun'),\n",
       " (737, 'cd/Alpha'),\n",
       " (738, '플레이어/Noun'),\n",
       " (739, '용/Noun'),\n",
       " (740, 'pc/Alpha'),\n",
       " (741, '나누다/Verb'),\n",
       " (742, '유영진/Noun'),\n",
       " (743, '박희본/Noun'),\n",
       " (744, '이삭/Noun'),\n",
       " (745, 'N/Alpha'),\n",
       " (746, '지연/Noun'),\n",
       " (747, '추가열/Noun'),\n",
       " (748, '송광식/Noun'),\n",
       " (749, 'Pray/Alpha'),\n",
       " (750, 'You/Alpha'),\n",
       " (751, 'Perfect/Alpha'),\n",
       " (752, 'Man/Alpha'),\n",
       " (753, '그대/Noun'),\n",
       " (754, '에게/Josa'),\n",
       " (755, '신해철/Noun'),\n",
       " (756, '통/Noun'),\n",
       " (757, '1988/Number'),\n",
       " (758, 'MBC/Alpha'),\n",
       " (759, '대학가요제/Noun'),\n",
       " (760, '\\u200e/Foreign'),\n",
       " (761, '그/Noun'),\n",
       " (762, '친구/Noun'),\n",
       " (763, '무한궤도/Noun'),\n",
       " (764, '출전/Noun'),\n",
       " (765, '해/Josa'),\n",
       " (766, '대상/Noun'),\n",
       " (767, '수상/Noun'),\n",
       " (768, '04/Number'),\n",
       " (769, '여덟/Noun'),\n",
       " (770, '2004/Number'),\n",
       " (771, '훗날/Noun'),\n",
       " (772, '함께/Adverb'),\n",
       " (773, '천상지희/Noun'),\n",
       " (774, '멤버/Noun'),\n",
       " (775, '선데이/Noun'),\n",
       " (776, '스테파니/Noun'),\n",
       " (777, '시아준수/Noun'),\n",
       " (778, '영웅재중/Noun'),\n",
       " (779, '최강창민/Noun'),\n",
       " (780, '믹키유천/Noun'),\n",
       " (781, '바램/Noun'),\n",
       " (782, '남기다/Verb'),\n",
       " (783, '이야기/Noun'),\n",
       " (784, 'Midnight/Alpha'),\n",
       " (785, 'Parade/Alpha'),\n",
       " (786, 'LOVE/Alpha'),\n",
       " (787, 'HONESTY/Alpha'),\n",
       " (788, '06/Number'),\n",
       " (789, 'SMTOWN/Alpha'),\n",
       " (790, '아홉/Noun'),\n",
       " (791, '내다/Verb'),\n",
       " (792, '2005/Number'),\n",
       " (793, '슈퍼주니어/Noun'),\n",
       " (794, '앞서다/Verb'),\n",
       " (795, '떠나다/Verb'),\n",
       " (796, '자신/Noun'),\n",
       " (797, '회사/Noun'),\n",
       " (798, '설립/Noun'),\n",
       " (799, '다른/Noun'),\n",
       " (800, '소속사/Noun'),\n",
       " (801, '이적/Noun'),\n",
       " (802, '천무/Noun'),\n",
       " (803, '상미/Noun'),\n",
       " (804, '린아/Noun'),\n",
       " (805, '지성/Noun'),\n",
       " (806, '희다/Adjective'),\n",
       " (807, '열/Noun'),\n",
       " (808, 'TRAX/Alpha'),\n",
       " (809, 'Typhoon/Alpha'),\n",
       " (810, 'Rose/Alpha'),\n",
       " (811, 'Attack/Alpha'),\n",
       " (812, 'X/Alpha'),\n",
       " (813, 'Mas/Alpha'),\n",
       " (814, '이특/Noun'),\n",
       " (815, '철/Noun'),\n",
       " (816, '예성/Noun'),\n",
       " (817, '강인/Noun'),\n",
       " (818, '신동/Noun'),\n",
       " (819, '성민/Noun'),\n",
       " (820, '은혁/Noun'),\n",
       " (821, '동해/Noun'),\n",
       " (822, '시원/Noun'),\n",
       " (823, '려욱/Noun'),\n",
       " (824, '규현/Noun'),\n",
       " (825, '한경/Noun'),\n",
       " (826, '기범/Noun'),\n",
       " (827, 'CUBE/Alpha'),\n",
       " (828, 'FOR/Alpha'),\n",
       " (829, 'SEASON/Alpha'),\n",
       " (830, '에이큐브/Noun'),\n",
       " (831, '사계절/Noun'),\n",
       " (832, '프로젝트/Noun'),\n",
       " (833, '개/Noun'),\n",
       " (834, '연속/Noun'),\n",
       " (835, '정은지/Noun'),\n",
       " (836, '#/Punctuation'),\n",
       " (837, 'BLUE/Alpha'),\n",
       " (838, '포/Noun'),\n",
       " (839, '시즌/Noun'),\n",
       " (840, '블루/Noun'),\n",
       " (841, '계절/Noun'),\n",
       " (842, '테마/Noun'),\n",
       " (843, '이며/Josa'),\n",
       " (844, '2013/Number'),\n",
       " (845, '허각/Noun'),\n",
       " (846, '에이핑크/Noun'),\n",
       " (847, '컬래버레이션/Noun'),\n",
       " (848, '불렀/Noun'),\n",
       " (849, '한/Determiner'),\n",
       " (850, '짧다/Adjective'),\n",
       " (851, '머리/Noun'),\n",
       " (852, '작사/Noun'),\n",
       " (853, '·/Foreign'),\n",
       " (854, '편곡/Noun'),\n",
       " (855, '이단옆차기/Noun'),\n",
       " (856, '작곡/Noun'),\n",
       " (857, '박치기/Noun'),\n",
       " (858, 'Season/Alpha'),\n",
       " (859, '2015/Number'),\n",
       " (860, '김남주/Noun'),\n",
       " (861, '비투비/Noun'),\n",
       " (862, '육성재/Noun'),\n",
       " (863, 'GREEN/Alpha'),\n",
       " (864, '비스트/Noun'),\n",
       " (865, '양요섭/Noun'),\n",
       " (866, '봄/Noun'),\n",
       " (867, '목소리/Noun'),\n",
       " (868, '만을/Josa'),\n",
       " (869, 'PANDA/Alpha'),\n",
       " (870, 'UTY/Alpha'),\n",
       " (871, '같이/Josa'),\n",
       " (872, '전체/Noun'),\n",
       " (873, '김이나/Noun'),\n",
       " (874, '김건우/Noun'),\n",
       " (875, '송기홍/Noun'),\n",
       " (876, 'DAY/Alpha'),\n",
       " (877, 'SKY/Alpha'),\n",
       " (878, '이제/Noun'),\n",
       " (879, '그만/Adverb'),\n",
       " (880, '싸우다/Verb'),\n",
       " (881, '범/Noun'),\n",
       " (882, '낭/Noun'),\n",
       " (883, 'GnO/Alpha'),\n",
       " (884, 'WHITE/Alpha'),\n",
       " (885, '13/Number'),\n",
       " (886, '장현승/Noun'),\n",
       " (887, '신사동/Noun'),\n",
       " (888, '호랭이/Noun'),\n",
       " (889, '라도/Josa'),\n",
       " (890, '일년전/Noun'),\n",
       " (891, 'Inst/Alpha'),\n",
       " (892, '울다/Verb'),\n",
       " (893, '버즈/Noun'),\n",
       " (894, '\",/Punctuation'),\n",
       " (895, '15760/Number'),\n",
       " (896, '1992/Number'),\n",
       " (897, 'QB/Alpha'),\n",
       " (898, '명왕성/Noun'),\n",
       " (899, '위성/Noun'),\n",
       " (900, '카론/Noun'),\n",
       " (901, '발견/Noun'),\n",
       " (902, '최초/Noun'),\n",
       " (903, '큐비원족/Noun'),\n",
       " (904, '행성/Noun'),\n",
       " (905, '하와이/Noun'),\n",
       " (906, '마우나케아/Noun'),\n",
       " (907, '천문대/Noun'),\n",
       " (908, 'David/Alpha'),\n",
       " (909, 'Jewitt/Alpha'),\n",
       " (910, '와/Noun'),\n",
       " (911, 'Jane/Alpha'),\n",
       " (912, 'Luu/Alpha'),\n",
       " (913, '현재/Noun'),\n",
       " (914, '고전/Noun'),\n",
       " (915, '카이퍼/Noun'),\n",
       " (916, '천체/Noun'),\n",
       " (917, '분류/Noun'),\n",
       " (918, '임시/Noun'),\n",
       " (919, '명칭/Noun'),\n",
       " (920, '이다/Verb'),\n",
       " (921, '이러하다/Adjective'),\n",
       " (922, '종류/Noun'),\n",
       " (923, '가리키다/Verb'),\n",
       " (924, '族/Foreign'),\n",
       " (925, '이라는/Josa'),\n",
       " (926, '말/Noun'),\n",
       " (927, '생겨나다/Verb'),\n",
       " (928, '원인/Noun'),\n",
       " (929, '명명법/Noun'),\n",
       " (930, '자/Suffix'),\n",
       " (931, 'Smiley/Alpha'),\n",
       " (932, '라는/Josa'),\n",
       " (933, '이름/Noun'),\n",
       " (934, '붙이다/Verb'),\n",
       " (935, '제안/Noun'),\n",
       " (936, '이미/Adverb'),\n",
       " (937, '천문학자/Noun'),\n",
       " (938, '따다/Verb'),\n",
       " (939, '혜성/Noun'),\n",
       " (940, '1613/Number'),\n",
       " (941, '번호/Noun'),\n",
       " (942, '부여/Noun'),\n",
       " (943, '정식/Noun'),\n",
       " (944, '못/Noun'),\n",
       " (945, '남다/Verb'),\n",
       " (946, '그냥/Noun'),\n",
       " (947, '간단하다/Adjective'),\n",
       " (948, '이라고/Josa'),\n",
       " (949, '불리/Noun'),\n",
       " (950, '그러나/Conjunction'),\n",
       " (951, '연도/Noun'),\n",
       " (952, '붙다/Verb'),\n",
       " (953, '중복/Noun'),\n",
       " (954, '수가/Noun'),\n",
       " (955, '357439/Number'),\n",
       " (956, 'BL/Alpha'),\n",
       " (957, '86/Number'),\n",
       " (958, '뉴멕시코주/Noun'),\n",
       " (959, '니/Josa'),\n",
       " (960, '망원경/Noun'),\n",
       " (961, '소행성/Noun'),\n",
       " (962, '지름/Noun'),\n",
       " (963, '대략/Noun'),\n",
       " (964, '325/Number'),\n",
       " (965, '메/Noun'),\n",
       " (966, '타일/Noun'),\n",
       " (967, '추정/Noun'),\n",
       " (968, '한국/Noun'),\n",
       " (969, '시각/Noun'),\n",
       " (970, '27/Number'),\n",
       " (971, '오후/Noun'),\n",
       " (972, '통과/Noun'),\n",
       " (973, '예정/Noun'),\n",
       " (974, 'What/Alpha'),\n",
       " (975, 'Morning/Alpha'),\n",
       " (976, 'Glory/Alpha'),\n",
       " (977, '록/Noun'),\n",
       " (978, '오아시스/Noun'),\n",
       " (979, '347/Number'),\n",
       " (980, '000/Number'),\n",
       " (981, '장이/Suffix'),\n",
       " (982, '팔리다/Verb'),\n",
       " (983, '차트/Noun'),\n",
       " (984, '차지/Noun'),\n",
       " (985, '나오다/Verb'),\n",
       " (986, '히트/Noun'),\n",
       " (987, '기록/Noun'),\n",
       " (988, '에서만/Josa'),\n",
       " (989, '430/Number'),\n",
       " (990, '만장/Noun'),\n",
       " (991, 'x/Alpha'),\n",
       " (992, '플래티넘/Noun'),\n",
       " (993, '세계/Noun'),\n",
       " (994, '900/Number'),\n",
       " (995, '역사상/Noun'),\n",
       " (996, '번/Noun'),\n",
       " (997, '많이/Adverb'),\n",
       " (998, '유지/Noun'),\n",
       " (999, '또한/Noun'),\n",
       " ...]"
      ]
     },
     "execution_count": 14,
     "metadata": {},
     "output_type": "execute_result"
    }
   ],
   "source": [
    "[d for d in dictionary.items()]"
   ]
  },
  {
   "cell_type": "code",
   "execution_count": 15,
   "metadata": {
    "collapsed": true
   },
   "outputs": [],
   "source": [
    "import re"
   ]
  },
  {
   "cell_type": "code",
   "execution_count": 17,
   "metadata": {},
   "outputs": [
    {
     "data": {
      "text/plain": [
       "<gensim.corpora.dictionary.Dictionary at 0x12d205c88>"
      ]
     },
     "execution_count": 17,
     "metadata": {},
     "output_type": "execute_result"
    }
   ],
   "source": [
    "corpora.Dictionary(texts_wi)"
   ]
  },
  {
   "cell_type": "code",
   "execution_count": 5,
   "metadata": {},
   "outputs": [],
   "source": [
    "\n",
    "\n",
    "stop_words = [\"이\", \"의\",\"ㄴ\",\"는\", \"것\", \"하\", \"님\", \"좀\", \"거\", \"시\", \"왜\", \"제\", \"게\", \"식\", \"수\", \"그\", \"더\", \"때\", \"또\",  \"저\", \"나\", \"안\",\n",
    "              \"건\", \"요\", \"도\", \"왜\", \"어\", \"가\", \"를\", \"에\", \"것\", \"뿐\"]\n",
    "\n"
   ]
  },
  {
   "cell_type": "markdown",
   "metadata": {},
   "source": [
    "# 2.2 불용어를 처리하는 이유 :  많다는 것이 꼭 좋은 것은 아니다!\n",
    "\n",
    " (예) 세종코퍼스에서 가장 많은 수의 단어들을 보면  다음과 같다. \n",
    " 조사나 어미류는 어느 문서에나 많이 포함되어 있기 때문에 문서간 차이를 구별하기 어렵게 한다. "
   ]
  },
  {
   "cell_type": "markdown",
   "metadata": {},
   "source": [
    "<img src=\"kkma.png\" width=\"500\"><BR>"
   ]
  },
  {
   "cell_type": "markdown",
   "metadata": {},
   "source": [
    "http://kkma.snu.ac.kr/search"
   ]
  },
  {
   "cell_type": "markdown",
   "metadata": {},
   "source": [
    "# 3. 자른 토큰을 Integers로 인코딩"
   ]
  },
  {
   "cell_type": "code",
   "execution_count": 6,
   "metadata": {},
   "outputs": [],
   "source": [
    "from gensim import corpora\n",
    "dictionary_wi = corpora.Dictionary(texts_wi)\n",
    "dictionary_wi.save('wi.dict')  # save dictionary to file for future use\n"
   ]
  },
  {
   "cell_type": "markdown",
   "metadata": {},
   "source": [
    "# 4. TF-IDF(Term Frequency - Inverse Document Frequency) 계산"
   ]
  },
  {
   "cell_type": "markdown",
   "metadata": {},
   "source": [
    "<img src=\"tfidf.png\" width=\"600\"><BR>"
   ]
  },
  {
   "cell_type": "markdown",
   "metadata": {},
   "source": [
    "F(단어 빈도, term frequency)는 특정한 단어가 문서 내에 얼마나 자주 등장하는지를 나타내는 값으로, 이 값이 높을수록 문서에서 중요하다고 생각할 수 있다. 하지만 단어 자체가 문서군 내에서 자주 사용되는 경우, 이것은 그 단어가 흔하게 등장한다는 것을 의미한다. 이것을 DF(문서 빈도, document frequency)라고 하며, 이 값의 역수를 IDF(역문서 빈도, inverse document frequency)라고 한다. TF-IDF는 TF와 IDF를 곱한 값이다."
   ]
  },
  {
   "cell_type": "markdown",
   "metadata": {},
   "source": [
    "\n",
    "tf(t,d) = 0.5 + 0.5 x f(t,d) / (문서 내 단어들의 f(t,d) 값 중 최댓값) \n"
   ]
  },
  {
   "cell_type": "markdown",
   "metadata": {},
   "source": [
    "IDF 값은 문서군의 성격에 따라 결정된다. 예를 들어 '원자'라는 낱말은 일반적인 문서들 사이에서는 잘 나오지 않기 때문에 IDF 값이 높아지고 문서의 핵심어가 될 수 있지만, 원자에 대한 문서를 모아놓은 문서군의 경우 이 낱말은 상투어가 되어 각 문서들을 세분화하여 구분할 수 있는 다른 낱말들이 높은 가중치를 얻게 된다."
   ]
  },
  {
   "cell_type": "markdown",
   "metadata": {},
   "source": [
    "idf(t,D) = log ( 전체 문서의 갯수 / 단어 t가 포함된 문서의 수 )\n"
   ]
  },
  {
   "cell_type": "code",
   "execution_count": 7,
   "metadata": {},
   "outputs": [
    {
     "name": "stdout",
     "output_type": "stream",
     "text": [
      "[(0, 1), (1, 1), (2, 1), (3, 1), (4, 1), (5, 2), (6, 1), (7, 1), (8, 1), (9, 1)]\n",
      "[(5, 2), (0, 1), (1, 1), (2, 1), (3, 1), (4, 1), (6, 1), (7, 1), (8, 1), (9, 1)]\n",
      "죽이다/Verb\n"
     ]
    }
   ],
   "source": [
    "from gensim import models\n",
    "tf_wi = [dictionary_wi.doc2bow(text) for text in texts_wi]\n",
    "tfidf_model_wi = models.TfidfModel(tf_wi)\n",
    "tfidf_wi = tfidf_model_wi[tf_wi]\n",
    "corpora.MmCorpus.serialize('wi.mm', tfidf_wi) # save corpus to file for future use\n",
    "\n",
    "# print first 10 elements of first document's tf-idf vector\n",
    "print(tfidf_wi.corpus[0][:10])\n",
    "# print top 10 elements of first document's tf-idf vector\n",
    "print(sorted(tfidf_wi.corpus[0], key=lambda x: x[1], reverse=True)[:10])\n",
    "# print token of most frequent element\n",
    "print(dictionary_wi.get(414))"
   ]
  },
  {
   "cell_type": "markdown",
   "metadata": {},
   "source": [
    "# Train topic model  "
   ]
  },
  {
   "cell_type": "markdown",
   "metadata": {},
   "source": [
    "1. LSI"
   ]
  },
  {
   "cell_type": "code",
   "execution_count": 8,
   "metadata": {},
   "outputs": [
    {
     "name": "stdout",
     "output_type": "stream",
     "text": [
      "[(0, '0.580*\")/Punctuation\" + 0.520*\"(/Punctuation\" + 0.215*\"년/Noun\" + 0.164*\"遼/Foreign\" + 0.162*\"요/Noun\"'), (1, '0.498*\"=/Punctuation\" + 0.490*\"|/Punctuation\" + 0.484*\"align/Alpha\" + 0.375*\"right/Alpha\" + 0.175*\"center/Alpha\"'), (2, '0.304*\",/Punctuation\" + 0.292*\"\"/Punctuation\" + 0.271*\"일/Noun\" + 0.255*\"월/Noun\" + 0.203*\"./Punctuation\"')]\n"
     ]
    }
   ],
   "source": [
    "ntopics, nwords = 3, 5\n",
    "lsi_wi = models.lsimodel.LsiModel(tfidf_wi, id2word=dictionary_wi, num_topics=ntopics)\n",
    "print(lsi_wi.print_topics(num_topics=ntopics, num_words=nwords))"
   ]
  },
  {
   "cell_type": "markdown",
   "metadata": {},
   "source": [
    "# 2. LDA"
   ]
  },
  {
   "cell_type": "code",
   "execution_count": 9,
   "metadata": {
    "scrolled": true
   },
   "outputs": [
    {
     "name": "stdout",
     "output_type": "stream",
     "text": [
      "[(0, '0.010*\"(/Punctuation\" + 0.009*\")/Punctuation\" + 0.008*\"베트남/Noun\" + 0.008*\"왕조/Noun\" + 0.008*\"李朝/Foreign\"'), (1, '0.035*\")/Punctuation\" + 0.033*\"(/Punctuation\" + 0.015*\"년/Noun\" + 0.013*\"북송/Noun\" + 0.013*\"北宋/Foreign\"'), (2, '0.013*\")/Punctuation\" + 0.012*\"(/Punctuation\" + 0.009*\"()/Punctuation\" + 0.008*\"日本/Foreign\" + 0.008*\"고려/Noun\"')]\n"
     ]
    }
   ],
   "source": [
    "import numpy as np; np.random.seed(42)  # optional\n",
    "lda_wi = models.ldamodel.LdaModel(tfidf_wi, id2word=dictionary_wi, num_topics=ntopics)\n",
    "print(lda_wi.print_topics(num_topics=ntopics, num_words=nwords))"
   ]
  },
  {
   "cell_type": "markdown",
   "metadata": {},
   "source": [
    "# Scoring documents"
   ]
  },
  {
   "cell_type": "code",
   "execution_count": 10,
   "metadata": {},
   "outputs": [
    {
     "data": {
      "text/plain": [
       "[(2, 0.82852782399405878),\n",
       " (1, 0.086190671003169864),\n",
       " (0, 0.085281505002771346)]"
      ]
     },
     "execution_count": 10,
     "metadata": {},
     "output_type": "execute_result"
    }
   ],
   "source": [
    "bow = tfidf_model_wi[dictionary_wi.doc2bow(texts_wi[0])]\n",
    "sorted(lsi_wi[bow], key=lambda x: x[1], reverse=True)\n",
    "sorted(lda_wi[bow], key=lambda x: x[1], reverse=True)\n"
   ]
  },
  {
   "cell_type": "code",
   "execution_count": 11,
   "metadata": {},
   "outputs": [
    {
     "data": {
      "text/plain": [
       "[(2, 0.77378349758514831), (1, 0.11931053162638963), (0, 0.10690597078846202)]"
      ]
     },
     "execution_count": 11,
     "metadata": {},
     "output_type": "execute_result"
    }
   ],
   "source": [
    "bow = tfidf_model_wi[dictionary_wi.doc2bow(texts_wi[1])]\n",
    "sorted(lsi_wi[bow], key=lambda x: x[1], reverse=True)\n",
    "sorted(lda_wi[bow], key=lambda x: x[1], reverse=True)\n"
   ]
  },
  {
   "cell_type": "markdown",
   "metadata": {
    "collapsed": true
   },
   "source": [
    "# word2vec"
   ]
  },
  {
   "cell_type": "markdown",
   "metadata": {},
   "source": [
    "# 1.데이터 로드 "
   ]
  },
  {
   "cell_type": "code",
   "execution_count": 12,
   "metadata": {},
   "outputs": [
    {
     "name": "stdout",
     "output_type": "stream",
     "text": [
      "CPU times: user 7.41 ms, sys: 2.1 ms, total: 9.51 ms\n",
      "Wall time: 8.39 ms\n"
     ]
    }
   ],
   "source": [
    "\n",
    "%%time\n",
    "with open('/Users/song-yeongsug/anaconda/LDA0603/lda/kowiki.csv', 'r') as f:\n",
    "    docs_wi = [line for line in f.read().splitlines()]"
   ]
  },
  {
   "cell_type": "markdown",
   "metadata": {},
   "source": [
    "# 2. 토큰으로 자르기"
   ]
  },
  {
   "cell_type": "code",
   "execution_count": 13,
   "metadata": {
    "collapsed": true
   },
   "outputs": [],
   "source": [
    "from konlpy.tag import Twitter; t = Twitter()\n",
    "pos = lambda d: ['/'.join(p) for p in t.pos(d)]\n",
    "texts_wi = [pos(doc) for doc in docs_wi]"
   ]
  },
  {
   "cell_type": "markdown",
   "metadata": {
    "collapsed": true
   },
   "source": [
    "# 3. Train"
   ]
  },
  {
   "cell_type": "code",
   "execution_count": 14,
   "metadata": {},
   "outputs": [],
   "source": [
    "from gensim.models import word2vec\n",
    "wv_model_wi = word2vec.Word2Vec(texts_wi)\n",
    "wv_model_wi.init_sims(replace=True)\n",
    "wv_model_wi.save('wi_word2vec.model')"
   ]
  },
  {
   "cell_type": "markdown",
   "metadata": {},
   "source": [
    "# 4. Test"
   ]
  },
  {
   "cell_type": "code",
   "execution_count": 16,
   "metadata": {},
   "outputs": [
    {
     "data": {
      "text/plain": [
       "[('전/Noun', 0.9985165596008301),\n",
       " ('독립운동가/Noun', 0.9980098009109497),\n",
       " ('1957/Number', 0.9978177547454834),\n",
       " ('정치인/Noun', 0.9977759122848511),\n",
       " ('아나운서/Noun', 0.9975315928459167),\n",
       " ('물리학자/Noun', 0.9974913597106934),\n",
       " ('브라질/Noun', 0.9969936609268188),\n",
       " ('잉글랜드/Noun', 0.9969726800918579),\n",
       " ('프랑스/Noun', 0.9968726634979248),\n",
       " ('희극인/Noun', 0.9968183040618896)]"
      ]
     },
     "execution_count": 16,
     "metadata": {},
     "output_type": "execute_result"
    }
   ],
   "source": [
    "\n",
    "wv_model_wi.most_similar(pos('영국'))"
   ]
  },
  {
   "cell_type": "code",
   "execution_count": 17,
   "metadata": {},
   "outputs": [
    {
     "data": {
      "text/plain": [
       "[('일/Noun', 0.9949101209640503),\n",
       " ('10/Number', 0.9877444505691528),\n",
       " ('일과/Noun', 0.9798873066902161),\n",
       " ('12/Number', 0.9798750877380371),\n",
       " ('9/Number', 0.9661765098571777),\n",
       " ('그레고리력/Noun', 0.9636373519897461),\n",
       " ('율리우스력/Noun', 0.9635851383209229),\n",
       " ('5/Number', 0.9625630378723145),\n",
       " ('11/Number', 0.9582865238189697),\n",
       " ('1/Number', 0.9512710571289062)]"
      ]
     },
     "execution_count": 17,
     "metadata": {},
     "output_type": "execute_result"
    }
   ],
   "source": [
    "wv_model_wi.most_similar(pos('월'))"
   ]
  },
  {
   "cell_type": "markdown",
   "metadata": {},
   "source": [
    "# 시각화"
   ]
  },
  {
   "cell_type": "code",
   "execution_count": 18,
   "metadata": {},
   "outputs": [
    {
     "name": "stdout",
     "output_type": "stream",
     "text": [
      "[t-SNE] Computing pairwise distances...\n",
      "[t-SNE] Computed conditional probabilities for sample 1000 / 1000\n",
      "[t-SNE] Mean sigma: 0.022599\n",
      "[t-SNE] KL divergence after 100 iterations with early exaggeration: 19.624348\n",
      "[t-SNE] Error after 175 iterations: 19.624348\n"
     ]
    }
   ],
   "source": [
    "\n",
    "top = 1000 #top은 표시할 단어의 수\n",
    "\n",
    "vectors = wv_model_wi.wv.syn0[:top]\n",
    "labels = wv_model_wi.wv.index2word[:top] \n",
    "\n",
    "from sklearn.manifold import TSNE\n",
    "\n",
    "\n",
    "if np.shape(vectors)[1] > 2:\n",
    "    tsne = TSNE(perplexity=10, n_components=2, init='random', n_iter=1000, verbose=1, learning_rate=5000, method='exact')\n",
    "    vectors = tsne.fit_transform(vectors)\n",
    "\n",
    "\n",
    "#source = ColumnDataSource(data=dict(x=vectors.T[0], y=vectors.T[1], word=labels))\n",
    "    \n",
    "\n",
    "\n"
   ]
  },
  {
   "cell_type": "code",
   "execution_count": 19,
   "metadata": {
    "collapsed": true
   },
   "outputs": [],
   "source": [
    "\n",
    "from bokeh.plotting import figure, show\n",
    "from bokeh.models import ColumnDataSource, LabelSet"
   ]
  },
  {
   "cell_type": "code",
   "execution_count": 20,
   "metadata": {},
   "outputs": [],
   "source": [
    "source = ColumnDataSource(data=dict(x=vectors.T[0], y=vectors.T[1], word=labels))"
   ]
  },
  {
   "cell_type": "code",
   "execution_count": 21,
   "metadata": {
    "collapsed": true
   },
   "outputs": [],
   "source": [
    "label_set = LabelSet(x='x',y='y',text='word',source=source)"
   ]
  },
  {
   "cell_type": "code",
   "execution_count": 22,
   "metadata": {
    "collapsed": true
   },
   "outputs": [],
   "source": [
    "tools = \"pan,wheel_zoom,box_zoom,reset,resize\""
   ]
  },
  {
   "cell_type": "code",
   "execution_count": 23,
   "metadata": {
    "collapsed": true
   },
   "outputs": [],
   "source": [
    "p = figure(plot_width=900,plot_height=900,tools=[tools],title='title')"
   ]
  },
  {
   "cell_type": "code",
   "execution_count": 24,
   "metadata": {},
   "outputs": [
    {
     "data": {
      "text/html": [
       "<div style=\"display: table;\"><div style=\"display: table-row;\"><div style=\"display: table-cell;\"><b title=\"bokeh.models.renderers.GlyphRenderer\">GlyphRenderer</b>(</div><div style=\"display: table-cell;\">id&nbsp;=&nbsp;'54cf5f82-12ea-433b-a635-4c99816e0ba0', <span id=\"1ac08290-ecb8-44b4-b830-2d43ae187808\" style=\"cursor: pointer;\">&hellip;)</span></div></div><div class=\"06e5ec93-e7ca-44c4-881b-504d17b3780b\" style=\"display: none;\"><div style=\"display: table-cell;\"></div><div style=\"display: table-cell;\">data_source&nbsp;=&nbsp;ColumnDataSource(id='3d842d55-6955-4dd4-b2db-1c4fc7ac44fd', ...),</div></div><div class=\"06e5ec93-e7ca-44c4-881b-504d17b3780b\" style=\"display: none;\"><div style=\"display: table-cell;\"></div><div style=\"display: table-cell;\">glyph&nbsp;=&nbsp;Circle(id='75b75f56-46cc-4224-a518-0944e80fff44', ...),</div></div><div class=\"06e5ec93-e7ca-44c4-881b-504d17b3780b\" style=\"display: none;\"><div style=\"display: table-cell;\"></div><div style=\"display: table-cell;\">hover_glyph&nbsp;=&nbsp;None,</div></div><div class=\"06e5ec93-e7ca-44c4-881b-504d17b3780b\" style=\"display: none;\"><div style=\"display: table-cell;\"></div><div style=\"display: table-cell;\">js_callbacks&nbsp;=&nbsp;{},</div></div><div class=\"06e5ec93-e7ca-44c4-881b-504d17b3780b\" style=\"display: none;\"><div style=\"display: table-cell;\"></div><div style=\"display: table-cell;\">level&nbsp;=&nbsp;'glyph',</div></div><div class=\"06e5ec93-e7ca-44c4-881b-504d17b3780b\" style=\"display: none;\"><div style=\"display: table-cell;\"></div><div style=\"display: table-cell;\">name&nbsp;=&nbsp;None,</div></div><div class=\"06e5ec93-e7ca-44c4-881b-504d17b3780b\" style=\"display: none;\"><div style=\"display: table-cell;\"></div><div style=\"display: table-cell;\">nonselection_glyph&nbsp;=&nbsp;Circle(id='9526fc58-5c52-4b03-a338-4bdc1fd082cc', ...),</div></div><div class=\"06e5ec93-e7ca-44c4-881b-504d17b3780b\" style=\"display: none;\"><div style=\"display: table-cell;\"></div><div style=\"display: table-cell;\">selection_glyph&nbsp;=&nbsp;None,</div></div><div class=\"06e5ec93-e7ca-44c4-881b-504d17b3780b\" style=\"display: none;\"><div style=\"display: table-cell;\"></div><div style=\"display: table-cell;\">tags&nbsp;=&nbsp;[],</div></div><div class=\"06e5ec93-e7ca-44c4-881b-504d17b3780b\" style=\"display: none;\"><div style=\"display: table-cell;\"></div><div style=\"display: table-cell;\">visible&nbsp;=&nbsp;True,</div></div><div class=\"06e5ec93-e7ca-44c4-881b-504d17b3780b\" style=\"display: none;\"><div style=\"display: table-cell;\"></div><div style=\"display: table-cell;\">x_range_name&nbsp;=&nbsp;'default',</div></div><div class=\"06e5ec93-e7ca-44c4-881b-504d17b3780b\" style=\"display: none;\"><div style=\"display: table-cell;\"></div><div style=\"display: table-cell;\">y_range_name&nbsp;=&nbsp;'default')</div></div></div>\n",
       "<script>\n",
       "(function() {\n",
       "  var expanded = false;\n",
       "  var ellipsis = document.getElementById(\"1ac08290-ecb8-44b4-b830-2d43ae187808\");\n",
       "  ellipsis.addEventListener(\"click\", function() {\n",
       "    var rows = document.getElementsByClassName(\"06e5ec93-e7ca-44c4-881b-504d17b3780b\");\n",
       "    for (var i = 0; i < rows.length; i++) {\n",
       "      var el = rows[i];\n",
       "      el.style.display = expanded ? \"none\" : \"table-row\";\n",
       "    }\n",
       "    ellipsis.innerHTML = expanded ? \"&hellip;)\" : \"&lsaquo;&lsaquo;&lsaquo;\";\n",
       "    expanded = !expanded;\n",
       "  });\n",
       "})();\n",
       "</script>\n"
      ],
      "text/plain": [
       "GlyphRenderer(id='54cf5f82-12ea-433b-a635-4c99816e0ba0', ...)"
      ]
     },
     "execution_count": 24,
     "metadata": {},
     "output_type": "execute_result"
    }
   ],
   "source": [
    "\n",
    "p.circle('x','y',size=5,source=source,alpha=0.6)"
   ]
  },
  {
   "cell_type": "code",
   "execution_count": 25,
   "metadata": {
    "collapsed": true
   },
   "outputs": [],
   "source": [
    "p.add_layout(label_set)"
   ]
  },
  {
   "cell_type": "markdown",
   "metadata": {},
   "source": [
    "<img src=\"space.png\" width=\"700\"><BR>"
   ]
  },
  {
   "cell_type": "code",
   "execution_count": 26,
   "metadata": {},
   "outputs": [],
   "source": [
    "show(p)"
   ]
  },
  {
   "cell_type": "markdown",
   "metadata": {},
   "source": [
    "# Working in the Notebook"
   ]
  },
  {
   "cell_type": "markdown",
   "metadata": {},
   "source": [
    "http://bokeh.pydata.org/en/latest/docs/user_guide/notebook.html"
   ]
  },
  {
   "cell_type": "code",
   "execution_count": 35,
   "metadata": {
    "collapsed": true
   },
   "outputs": [],
   "source": [
    "from bokeh.io import push_notebook, show, output_notebook\n",
    "from bokeh.layouts import row"
   ]
  },
  {
   "cell_type": "code",
   "execution_count": 36,
   "metadata": {},
   "outputs": [
    {
     "data": {
      "text/html": [
       "\n",
       "    <div class=\"bk-root\">\n",
       "        <a href=\"http://bokeh.pydata.org\" target=\"_blank\" class=\"bk-logo bk-logo-small bk-logo-notebook\"></a>\n",
       "        <span id=\"9f0e1f6b-d7d5-4585-b296-0aedf461770b\">Loading BokehJS ...</span>\n",
       "    </div>"
      ]
     },
     "metadata": {},
     "output_type": "display_data"
    },
    {
     "data": {
      "application/javascript": [
       "\n",
       "(function(global) {\n",
       "  function now() {\n",
       "    return new Date();\n",
       "  }\n",
       "\n",
       "  var force = true;\n",
       "\n",
       "  if (typeof (window._bokeh_onload_callbacks) === \"undefined\" || force === true) {\n",
       "    window._bokeh_onload_callbacks = [];\n",
       "    window._bokeh_is_loading = undefined;\n",
       "  }\n",
       "\n",
       "\n",
       "  \n",
       "  if (typeof (window._bokeh_timeout) === \"undefined\" || force === true) {\n",
       "    window._bokeh_timeout = Date.now() + 5000;\n",
       "    window._bokeh_failed_load = false;\n",
       "  }\n",
       "\n",
       "  var NB_LOAD_WARNING = {'data': {'text/html':\n",
       "     \"<div style='background-color: #fdd'>\\n\"+\n",
       "     \"<p>\\n\"+\n",
       "     \"BokehJS does not appear to have successfully loaded. If loading BokehJS from CDN, this \\n\"+\n",
       "     \"may be due to a slow or bad network connection. Possible fixes:\\n\"+\n",
       "     \"</p>\\n\"+\n",
       "     \"<ul>\\n\"+\n",
       "     \"<li>re-rerun `output_notebook()` to attempt to load from CDN again, or</li>\\n\"+\n",
       "     \"<li>use INLINE resources instead, as so:</li>\\n\"+\n",
       "     \"</ul>\\n\"+\n",
       "     \"<code>\\n\"+\n",
       "     \"from bokeh.resources import INLINE\\n\"+\n",
       "     \"output_notebook(resources=INLINE)\\n\"+\n",
       "     \"</code>\\n\"+\n",
       "     \"</div>\"}};\n",
       "\n",
       "  function display_loaded() {\n",
       "    if (window.Bokeh !== undefined) {\n",
       "      document.getElementById(\"9f0e1f6b-d7d5-4585-b296-0aedf461770b\").textContent = \"BokehJS successfully loaded.\";\n",
       "    } else if (Date.now() < window._bokeh_timeout) {\n",
       "      setTimeout(display_loaded, 100)\n",
       "    }\n",
       "  }\n",
       "\n",
       "  function run_callbacks() {\n",
       "    window._bokeh_onload_callbacks.forEach(function(callback) { callback() });\n",
       "    delete window._bokeh_onload_callbacks\n",
       "    console.info(\"Bokeh: all callbacks have finished\");\n",
       "  }\n",
       "\n",
       "  function load_libs(js_urls, callback) {\n",
       "    window._bokeh_onload_callbacks.push(callback);\n",
       "    if (window._bokeh_is_loading > 0) {\n",
       "      console.log(\"Bokeh: BokehJS is being loaded, scheduling callback at\", now());\n",
       "      return null;\n",
       "    }\n",
       "    if (js_urls == null || js_urls.length === 0) {\n",
       "      run_callbacks();\n",
       "      return null;\n",
       "    }\n",
       "    console.log(\"Bokeh: BokehJS not loaded, scheduling load and callback at\", now());\n",
       "    window._bokeh_is_loading = js_urls.length;\n",
       "    for (var i = 0; i < js_urls.length; i++) {\n",
       "      var url = js_urls[i];\n",
       "      var s = document.createElement('script');\n",
       "      s.src = url;\n",
       "      s.async = false;\n",
       "      s.onreadystatechange = s.onload = function() {\n",
       "        window._bokeh_is_loading--;\n",
       "        if (window._bokeh_is_loading === 0) {\n",
       "          console.log(\"Bokeh: all BokehJS libraries loaded\");\n",
       "          run_callbacks()\n",
       "        }\n",
       "      };\n",
       "      s.onerror = function() {\n",
       "        console.warn(\"failed to load library \" + url);\n",
       "      };\n",
       "      console.log(\"Bokeh: injecting script tag for BokehJS library: \", url);\n",
       "      document.getElementsByTagName(\"head\")[0].appendChild(s);\n",
       "    }\n",
       "  };var element = document.getElementById(\"9f0e1f6b-d7d5-4585-b296-0aedf461770b\");\n",
       "  if (element == null) {\n",
       "    console.log(\"Bokeh: ERROR: autoload.js configured with elementid '9f0e1f6b-d7d5-4585-b296-0aedf461770b' but no matching script tag was found. \")\n",
       "    return false;\n",
       "  }\n",
       "\n",
       "  var js_urls = [\"https://cdn.pydata.org/bokeh/release/bokeh-0.12.4.min.js\", \"https://cdn.pydata.org/bokeh/release/bokeh-widgets-0.12.4.min.js\"];\n",
       "\n",
       "  var inline_js = [\n",
       "    function(Bokeh) {\n",
       "      Bokeh.set_log_level(\"info\");\n",
       "    },\n",
       "    \n",
       "    function(Bokeh) {\n",
       "      \n",
       "      document.getElementById(\"9f0e1f6b-d7d5-4585-b296-0aedf461770b\").textContent = \"BokehJS is loading...\";\n",
       "    },\n",
       "    function(Bokeh) {\n",
       "      console.log(\"Bokeh: injecting CSS: https://cdn.pydata.org/bokeh/release/bokeh-0.12.4.min.css\");\n",
       "      Bokeh.embed.inject_css(\"https://cdn.pydata.org/bokeh/release/bokeh-0.12.4.min.css\");\n",
       "      console.log(\"Bokeh: injecting CSS: https://cdn.pydata.org/bokeh/release/bokeh-widgets-0.12.4.min.css\");\n",
       "      Bokeh.embed.inject_css(\"https://cdn.pydata.org/bokeh/release/bokeh-widgets-0.12.4.min.css\");\n",
       "    }\n",
       "  ];\n",
       "\n",
       "  function run_inline_js() {\n",
       "    \n",
       "    if ((window.Bokeh !== undefined) || (force === true)) {\n",
       "      for (var i = 0; i < inline_js.length; i++) {\n",
       "        inline_js[i](window.Bokeh);\n",
       "      }if (force === true) {\n",
       "        display_loaded();\n",
       "      }} else if (Date.now() < window._bokeh_timeout) {\n",
       "      setTimeout(run_inline_js, 100);\n",
       "    } else if (!window._bokeh_failed_load) {\n",
       "      console.log(\"Bokeh: BokehJS failed to load within specified timeout.\");\n",
       "      window._bokeh_failed_load = true;\n",
       "    } else if (force !== true) {\n",
       "      var cell = $(document.getElementById(\"9f0e1f6b-d7d5-4585-b296-0aedf461770b\")).parents('.cell').data().cell;\n",
       "      cell.output_area.append_execute_result(NB_LOAD_WARNING)\n",
       "    }\n",
       "\n",
       "  }\n",
       "\n",
       "  if (window._bokeh_is_loading === 0) {\n",
       "    console.log(\"Bokeh: BokehJS loaded, going straight to plotting\");\n",
       "    run_inline_js();\n",
       "  } else {\n",
       "    load_libs(js_urls, function() {\n",
       "      console.log(\"Bokeh: BokehJS plotting callback run at\", now());\n",
       "      run_inline_js();\n",
       "    });\n",
       "  }\n",
       "}(this));"
      ]
     },
     "metadata": {},
     "output_type": "display_data"
    }
   ],
   "source": [
    "output_notebook()"
   ]
  },
  {
   "cell_type": "markdown",
   "metadata": {
    "collapsed": true
   },
   "source": [
    "감사합니다."
   ]
  }
 ],
 "metadata": {
  "kernelspec": {
   "display_name": "Python 2",
   "language": "python",
   "name": "python2"
  },
  "language_info": {
   "codemirror_mode": {
    "name": "ipython",
    "version": 2
   },
   "file_extension": ".py",
   "mimetype": "text/x-python",
   "name": "python",
   "nbconvert_exporter": "python",
   "pygments_lexer": "ipython2",
   "version": "2.7.13"
  }
 },
 "nbformat": 4,
 "nbformat_minor": 2
}
